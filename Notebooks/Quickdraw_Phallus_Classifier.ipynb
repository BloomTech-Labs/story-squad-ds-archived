{
  "cells": [
    {
      "cell_type": "markdown",
      "metadata": {
        "id": "vw_uze8k5x0p",
        "colab_type": "text"
      },
      "source": [
        "# 1. Load Data"
      ]
    },
    {
      "cell_type": "code",
      "metadata": {
        "id": "F3aAmTdstulu",
        "colab_type": "code",
        "outputId": "7e082a81-7fc5-4366-8a95-25bdb7fe6f3e",
        "colab": {
          "base_uri": "https://localhost:8080/",
          "height": 119
        }
      },
      "source": [
        "# mount google drive to store files for reproducibility\n",
        "from google.colab import drive\n",
        "drive.mount('/content/drive')"
      ],
      "execution_count": 0,
      "outputs": [
        {
          "output_type": "stream",
          "text": [
            "Go to this URL in a browser: https://accounts.google.com/o/oauth2/auth?client_id=947318989803-6bn6qk8qdgf4n4g3pfee6491hc0brc4i.apps.googleusercontent.com&redirect_uri=urn%3aietf%3awg%3aoauth%3a2.0%3aoob&response_type=code&scope=email%20https%3a%2f%2fwww.googleapis.com%2fauth%2fdocs.test%20https%3a%2f%2fwww.googleapis.com%2fauth%2fdrive%20https%3a%2f%2fwww.googleapis.com%2fauth%2fdrive.photos.readonly%20https%3a%2f%2fwww.googleapis.com%2fauth%2fpeopleapi.readonly\n",
            "\n",
            "Enter your authorization code:\n",
            "··········\n",
            "Mounted at /content/drive\n"
          ],
          "name": "stdout"
        }
      ]
    },
    {
      "cell_type": "code",
      "metadata": {
        "id": "C3USj88Fnm0k",
        "colab_type": "code",
        "colab": {}
      },
      "source": [
        "# imports \n",
        "import ast\n",
        "import cv2\n",
        "import matplotlib.pyplot as plt\n",
        "import numpy as np\n",
        "import pandas as pd\n",
        "import os\n",
        "from PIL import Image, ImageDraw\n",
        "from skimage import filters, feature\n",
        "from sklearn.metrics import confusion_matrix\n",
        "from sklearn.model_selection import train_test_split\n",
        "from sklearn.preprocessing import LabelEncoder\n",
        "import tensorflow as tf\n",
        "from tensorflow.keras.callbacks import EarlyStopping\n",
        "from tensorflow.keras.models import Sequential\n",
        "from tensorflow.keras.layers import Dense, Dropout, Activation, Flatten, Conv2D, MaxPooling2D, BatchNormalization"
      ],
      "execution_count": 0,
      "outputs": []
    },
    {
      "cell_type": "code",
      "metadata": {
        "id": "wzeB4lyToWbC",
        "colab_type": "code",
        "outputId": "b26b1280-ddf3-4776-b891-48bfe005c2d6",
        "colab": {
          "base_uri": "https://localhost:8080/",
          "height": 215
        }
      },
      "source": [
        "# get data - you can add more classes here\n",
        "df = pd.read_csv('/content/drive/My Drive/Quickdraw/penis-simplified.csv')\n",
        "df2 = pd.read_csv('/content/drive/My Drive/Quickdraw/airplane.csv')\n",
        "df3 = pd.read_csv('/content/drive/My Drive/Quickdraw/arm.csv')\n",
        "# df4 = pd.read_csv('Quickdraw/asparagus.csv')\n",
        "# df5 = pd.read_csv('Quickdraw/anvil.csv')\n",
        "# df6 = pd.read_csv('Quickdraw/ant.csv')\n",
        "# df7 = pd.read_csv('Quickdraw/animal migration.csv')\n",
        "# df8 = pd.read_csv('Quickdraw/angel.csv')\n",
        "# df9 = pd.read_csv('Quickdraw/alarm clock.csv')\n",
        "# df10 = pd.read_csv('Quickdraw/ambulance.csv')\n",
        "# df11 = pd.read_csv('Quickdraw/apple.csv')\n",
        "\n",
        "\n",
        "# removing images not recognized\n",
        "df2 = df2[df2['recognized'] == True]\n",
        "df3 = df3[df3['recognized'] == True]\n",
        "# df4 = df4[df4['recognized'] == True]\n",
        "# df5 = df5[df5['recognized'] == True]\n",
        "# df6 = df6[df6['recognized'] == True]\n",
        "# df7 = df7[df7['recognized'] == True]\n",
        "# df8 = df8[df8['recognized'] == True]\n",
        "# df9 = df9[df9['recognized'] == True]\n",
        "# df10 = df10[df10['recognized'] == True]\n",
        "# df11 = df11[df11['recognized'] == True]\n",
        "\n",
        "# taking 10,000 samples to match size of the penis dataset to avoid \n",
        "# class imbalance\n",
        "df2 = df2[:10000]\n",
        "df3 = df3[:10000]\n",
        "# df4 = df4[:10000]\n",
        "# df5 = df5[:10000]\n",
        "# df6 = df6[:10000]\n",
        "# df7 = df7[:10000]\n",
        "# df8 = df8[:10000]\n",
        "# df9 = df9[:10000]\n",
        "# df10 = df10[:10000]\n",
        "# df11 = df11[:10000]\n",
        "\n",
        "frames = [df, df2, df3] # df4, df5, df6, df7, df8, df9, df10, df11]\n",
        "\n",
        "df4 = pd.concat(frames)\n",
        "print(df4.shape)\n",
        "df4.head()"
      ],
      "execution_count": 0,
      "outputs": [
        {
          "output_type": "stream",
          "text": [
            "(29996, 6)\n"
          ],
          "name": "stdout"
        },
        {
          "output_type": "execute_result",
          "data": {
            "text/html": [
              "<div>\n",
              "<style scoped>\n",
              "    .dataframe tbody tr th:only-of-type {\n",
              "        vertical-align: middle;\n",
              "    }\n",
              "\n",
              "    .dataframe tbody tr th {\n",
              "        vertical-align: top;\n",
              "    }\n",
              "\n",
              "    .dataframe thead th {\n",
              "        text-align: right;\n",
              "    }\n",
              "</style>\n",
              "<table border=\"1\" class=\"dataframe\">\n",
              "  <thead>\n",
              "    <tr style=\"text-align: right;\">\n",
              "      <th></th>\n",
              "      <th>countrycode</th>\n",
              "      <th>drawing</th>\n",
              "      <th>key_id</th>\n",
              "      <th>recognized</th>\n",
              "      <th>timestamp</th>\n",
              "      <th>word</th>\n",
              "    </tr>\n",
              "  </thead>\n",
              "  <tbody>\n",
              "    <tr>\n",
              "      <th>0</th>\n",
              "      <td>US</td>\n",
              "      <td>[[[79, 80, 90, 97, 112, 125, 137, 171, 183, 18...</td>\n",
              "      <td>2081</td>\n",
              "      <td>True</td>\n",
              "      <td>2018-10-09 00:21:52.337000+00:00</td>\n",
              "      <td>penis</td>\n",
              "    </tr>\n",
              "    <tr>\n",
              "      <th>1</th>\n",
              "      <td>US</td>\n",
              "      <td>[[[44, 31, 11, 2, 1, 28, 55, 57, 60, 97, 104, ...</td>\n",
              "      <td>2084</td>\n",
              "      <td>True</td>\n",
              "      <td>2018-10-09 00:44:05.264000+00:00</td>\n",
              "      <td>penis</td>\n",
              "    </tr>\n",
              "    <tr>\n",
              "      <th>2</th>\n",
              "      <td>US</td>\n",
              "      <td>[[[109, 85, 73, 69, 77, 92, 102, 154, 169, 185...</td>\n",
              "      <td>2085</td>\n",
              "      <td>True</td>\n",
              "      <td>2018-10-09 01:28:17.250000+00:00</td>\n",
              "      <td>penis</td>\n",
              "    </tr>\n",
              "    <tr>\n",
              "      <th>3</th>\n",
              "      <td>US</td>\n",
              "      <td>[[[140, 115, 120, 129, 151, 170, 182, 195, 195...</td>\n",
              "      <td>2087</td>\n",
              "      <td>True</td>\n",
              "      <td>2018-10-09 01:29:12.972000+00:00</td>\n",
              "      <td>penis</td>\n",
              "    </tr>\n",
              "    <tr>\n",
              "      <th>4</th>\n",
              "      <td>US</td>\n",
              "      <td>[[[88], [111]], [[88], [111]], [[85, 123, 175,...</td>\n",
              "      <td>2088</td>\n",
              "      <td>True</td>\n",
              "      <td>2018-10-09 01:37:55.307000+00:00</td>\n",
              "      <td>penis</td>\n",
              "    </tr>\n",
              "  </tbody>\n",
              "</table>\n",
              "</div>"
            ],
            "text/plain": [
              "  countrycode  ...   word\n",
              "0          US  ...  penis\n",
              "1          US  ...  penis\n",
              "2          US  ...  penis\n",
              "3          US  ...  penis\n",
              "4          US  ...  penis\n",
              "\n",
              "[5 rows x 6 columns]"
            ]
          },
          "metadata": {
            "tags": []
          },
          "execution_count": 3
        }
      ]
    },
    {
      "cell_type": "markdown",
      "metadata": {
        "id": "p2V8T9lI6B54",
        "colab_type": "text"
      },
      "source": [
        "# 2. Transform Data\n",
        "The drawing column shows timing of strokes for the google quickdraw data.  That needs to be drawn and converted into an image.  The image then needs to be converted in a numpy array for input into the convolutional neural network."
      ]
    },
    {
      "cell_type": "code",
      "metadata": {
        "id": "-N2Lqqmiocu3",
        "colab_type": "code",
        "colab": {}
      },
      "source": [
        "# create numpy arrays, 64x64 runs faster than 128x128 without \n",
        "# sacrificing results\n",
        "imheight, imwidth = 64, 64\n",
        "\n",
        "# faster conversion function taken from kaggle competition notebooks\n",
        "def draw_it(strokes):\n",
        "    image = Image.new(\"P\", (256,256), color=255)\n",
        "    image_draw = ImageDraw.Draw(image)\n",
        "    for stroke in ast.literal_eval(strokes):\n",
        "        for i in range(len(stroke[0])-1):\n",
        "            image_draw.line([stroke[0][i], \n",
        "                             stroke[1][i],\n",
        "                             stroke[0][i+1], \n",
        "                             stroke[1][i+1]],\n",
        "                            fill=0, width=5)\n",
        "    image = image.resize((imheight, imwidth))\n",
        "    img_array = np.array(image)/255.\n",
        "    return img_array"
      ],
      "execution_count": 0,
      "outputs": []
    },
    {
      "cell_type": "code",
      "metadata": {
        "id": "uCYbG3oApDSA",
        "colab_type": "code",
        "outputId": "8d4016e7-92cb-4e36-8c87-dea3a96b4aa2",
        "colab": {
          "base_uri": "https://localhost:8080/",
          "height": 197
        }
      },
      "source": [
        "# map numpy arrays to each drawing\n",
        "df4['drawing_np'] = df4['drawing'].map(draw_it)\n",
        "df4.head()"
      ],
      "execution_count": 0,
      "outputs": [
        {
          "output_type": "execute_result",
          "data": {
            "text/html": [
              "<div>\n",
              "<style scoped>\n",
              "    .dataframe tbody tr th:only-of-type {\n",
              "        vertical-align: middle;\n",
              "    }\n",
              "\n",
              "    .dataframe tbody tr th {\n",
              "        vertical-align: top;\n",
              "    }\n",
              "\n",
              "    .dataframe thead th {\n",
              "        text-align: right;\n",
              "    }\n",
              "</style>\n",
              "<table border=\"1\" class=\"dataframe\">\n",
              "  <thead>\n",
              "    <tr style=\"text-align: right;\">\n",
              "      <th></th>\n",
              "      <th>countrycode</th>\n",
              "      <th>drawing</th>\n",
              "      <th>key_id</th>\n",
              "      <th>recognized</th>\n",
              "      <th>timestamp</th>\n",
              "      <th>word</th>\n",
              "      <th>drawing_np</th>\n",
              "    </tr>\n",
              "  </thead>\n",
              "  <tbody>\n",
              "    <tr>\n",
              "      <th>0</th>\n",
              "      <td>US</td>\n",
              "      <td>[[[79, 80, 90, 97, 112, 125, 137, 171, 183, 18...</td>\n",
              "      <td>2081</td>\n",
              "      <td>True</td>\n",
              "      <td>2018-10-09 00:21:52.337000+00:00</td>\n",
              "      <td>penis</td>\n",
              "      <td>[[1.0, 1.0, 1.0, 1.0, 1.0, 1.0, 1.0, 1.0, 1.0,...</td>\n",
              "    </tr>\n",
              "    <tr>\n",
              "      <th>1</th>\n",
              "      <td>US</td>\n",
              "      <td>[[[44, 31, 11, 2, 1, 28, 55, 57, 60, 97, 104, ...</td>\n",
              "      <td>2084</td>\n",
              "      <td>True</td>\n",
              "      <td>2018-10-09 00:44:05.264000+00:00</td>\n",
              "      <td>penis</td>\n",
              "      <td>[[1.0, 1.0, 1.0, 1.0, 1.0, 1.0, 1.0, 1.0, 1.0,...</td>\n",
              "    </tr>\n",
              "    <tr>\n",
              "      <th>2</th>\n",
              "      <td>US</td>\n",
              "      <td>[[[109, 85, 73, 69, 77, 92, 102, 154, 169, 185...</td>\n",
              "      <td>2085</td>\n",
              "      <td>True</td>\n",
              "      <td>2018-10-09 01:28:17.250000+00:00</td>\n",
              "      <td>penis</td>\n",
              "      <td>[[1.0, 1.0, 1.0, 1.0, 1.0, 1.0, 1.0, 1.0, 1.0,...</td>\n",
              "    </tr>\n",
              "    <tr>\n",
              "      <th>3</th>\n",
              "      <td>US</td>\n",
              "      <td>[[[140, 115, 120, 129, 151, 170, 182, 195, 195...</td>\n",
              "      <td>2087</td>\n",
              "      <td>True</td>\n",
              "      <td>2018-10-09 01:29:12.972000+00:00</td>\n",
              "      <td>penis</td>\n",
              "      <td>[[1.0, 1.0, 1.0, 1.0, 1.0, 1.0, 1.0, 1.0, 1.0,...</td>\n",
              "    </tr>\n",
              "    <tr>\n",
              "      <th>4</th>\n",
              "      <td>US</td>\n",
              "      <td>[[[88], [111]], [[88], [111]], [[85, 123, 175,...</td>\n",
              "      <td>2088</td>\n",
              "      <td>True</td>\n",
              "      <td>2018-10-09 01:37:55.307000+00:00</td>\n",
              "      <td>penis</td>\n",
              "      <td>[[1.0, 0.0, 0.0, 1.0, 1.0, 1.0, 1.0, 1.0, 1.0,...</td>\n",
              "    </tr>\n",
              "  </tbody>\n",
              "</table>\n",
              "</div>"
            ],
            "text/plain": [
              "  countrycode  ...                                         drawing_np\n",
              "0          US  ...  [[1.0, 1.0, 1.0, 1.0, 1.0, 1.0, 1.0, 1.0, 1.0,...\n",
              "1          US  ...  [[1.0, 1.0, 1.0, 1.0, 1.0, 1.0, 1.0, 1.0, 1.0,...\n",
              "2          US  ...  [[1.0, 1.0, 1.0, 1.0, 1.0, 1.0, 1.0, 1.0, 1.0,...\n",
              "3          US  ...  [[1.0, 1.0, 1.0, 1.0, 1.0, 1.0, 1.0, 1.0, 1.0,...\n",
              "4          US  ...  [[1.0, 0.0, 0.0, 1.0, 1.0, 1.0, 1.0, 1.0, 1.0,...\n",
              "\n",
              "[5 rows x 7 columns]"
            ]
          },
          "metadata": {
            "tags": []
          },
          "execution_count": 6
        }
      ]
    },
    {
      "cell_type": "code",
      "metadata": {
        "id": "D8LqX8UxpE3q",
        "colab_type": "code",
        "colab": {}
      },
      "source": [
        "# get data in right format\n",
        "X_upright = df4['drawing_np'].to_list()"
      ],
      "execution_count": 0,
      "outputs": []
    },
    {
      "cell_type": "code",
      "metadata": {
        "id": "8vPRbYrIpIyM",
        "colab_type": "code",
        "outputId": "c839f21e-d29d-4217-9e9c-979a0a772787",
        "colab": {
          "base_uri": "https://localhost:8080/",
          "height": 247
        }
      },
      "source": [
        "# visualize the first image\n",
        "IMG_SIZE = 64\n",
        "img_array = X_upright[0]\n",
        "img_array = cv2.resize(img_array, (IMG_SIZE, IMG_SIZE))\n",
        "plt.imshow(img_array, cmap='gray')\n",
        "plt.axis('off');"
      ],
      "execution_count": 0,
      "outputs": [
        {
          "output_type": "display_data",
          "data": {
            "image/png": "[encoded data removed]",
            "text/plain": [
              "<Figure size 432x288 with 1 Axes>"
            ]
          },
          "metadata": {
            "tags": [],
            "needs_background": "light"
          }
        }
      ]
    },
    {
      "cell_type": "code",
      "metadata": {
        "id": "HIK_TxOMpTFS",
        "colab_type": "code",
        "outputId": "d4d14bb9-e906-4467-89dd-15057c200566",
        "colab": {
          "base_uri": "https://localhost:8080/",
          "height": 281
        }
      },
      "source": [
        "# shuffle data\n",
        "df4 = df4.sample(frac=1, random_state=42)\n",
        "df4 = df4.reset_index()\n",
        "df4.head(5)"
      ],
      "execution_count": 0,
      "outputs": [
        {
          "output_type": "execute_result",
          "data": {
            "text/html": [
              "<div>\n",
              "<style scoped>\n",
              "    .dataframe tbody tr th:only-of-type {\n",
              "        vertical-align: middle;\n",
              "    }\n",
              "\n",
              "    .dataframe tbody tr th {\n",
              "        vertical-align: top;\n",
              "    }\n",
              "\n",
              "    .dataframe thead th {\n",
              "        text-align: right;\n",
              "    }\n",
              "</style>\n",
              "<table border=\"1\" class=\"dataframe\">\n",
              "  <thead>\n",
              "    <tr style=\"text-align: right;\">\n",
              "      <th></th>\n",
              "      <th>index</th>\n",
              "      <th>countrycode</th>\n",
              "      <th>drawing</th>\n",
              "      <th>key_id</th>\n",
              "      <th>recognized</th>\n",
              "      <th>timestamp</th>\n",
              "      <th>word</th>\n",
              "      <th>drawing_np</th>\n",
              "    </tr>\n",
              "  </thead>\n",
              "  <tbody>\n",
              "    <tr>\n",
              "      <th>0</th>\n",
              "      <td>2308</td>\n",
              "      <td>US</td>\n",
              "      <td>[[[90, 40, 21, 5, 2, 0, 7, 40, 71, 117, 135, 1...</td>\n",
              "      <td>4872</td>\n",
              "      <td>True</td>\n",
              "      <td>2018-10-18 01:43:00.232000+00:00</td>\n",
              "      <td>penis</td>\n",
              "      <td>[[1.0, 1.0, 1.0, 1.0, 1.0, 1.0, 1.0, 1.0, 1.0,...</td>\n",
              "    </tr>\n",
              "    <tr>\n",
              "      <th>1</th>\n",
              "      <td>7759</td>\n",
              "      <td>ES</td>\n",
              "      <td>[[[55, 64, 69, 84, 100, 110, 118, 118, 104, 10...</td>\n",
              "      <td>12574</td>\n",
              "      <td>True</td>\n",
              "      <td>2019-03-04 14:40:59.641000+00:00</td>\n",
              "      <td>penis</td>\n",
              "      <td>[[0.0, 1.0, 1.0, 1.0, 1.0, 1.0, 1.0, 1.0, 1.0,...</td>\n",
              "    </tr>\n",
              "    <tr>\n",
              "      <th>2</th>\n",
              "      <td>5226</td>\n",
              "      <td>GB</td>\n",
              "      <td>[[[255, 241, 226, 217, 199, 190, 178, 171, 150...</td>\n",
              "      <td>5291422213210112</td>\n",
              "      <td>True</td>\n",
              "      <td>2017-03-21 17:48:05.150490</td>\n",
              "      <td>arm</td>\n",
              "      <td>[[1.0, 1.0, 1.0, 1.0, 1.0, 1.0, 1.0, 1.0, 1.0,...</td>\n",
              "    </tr>\n",
              "    <tr>\n",
              "      <th>3</th>\n",
              "      <td>7047</td>\n",
              "      <td>BE</td>\n",
              "      <td>[[[61, 91, 118, 146, 179, 229, 251, 255, 243, ...</td>\n",
              "      <td>11637</td>\n",
              "      <td>True</td>\n",
              "      <td>2018-11-23 11:04:20.827000+00:00</td>\n",
              "      <td>penis</td>\n",
              "      <td>[[1.0, 1.0, 1.0, 1.0, 1.0, 1.0, 1.0, 1.0, 1.0,...</td>\n",
              "    </tr>\n",
              "    <tr>\n",
              "      <th>4</th>\n",
              "      <td>2664</td>\n",
              "      <td>CA</td>\n",
              "      <td>[[[0, 43, 88], [173, 124, 79]], [[88, 81, 83, ...</td>\n",
              "      <td>5307</td>\n",
              "      <td>True</td>\n",
              "      <td>2018-10-18 12:32:27.940000+00:00</td>\n",
              "      <td>penis</td>\n",
              "      <td>[[1.0, 1.0, 1.0, 1.0, 1.0, 1.0, 1.0, 1.0, 1.0,...</td>\n",
              "    </tr>\n",
              "  </tbody>\n",
              "</table>\n",
              "</div>"
            ],
            "text/plain": [
              "   index countrycode  ...   word                                         drawing_np\n",
              "0   2308          US  ...  penis  [[1.0, 1.0, 1.0, 1.0, 1.0, 1.0, 1.0, 1.0, 1.0,...\n",
              "1   7759          ES  ...  penis  [[0.0, 1.0, 1.0, 1.0, 1.0, 1.0, 1.0, 1.0, 1.0,...\n",
              "2   5226          GB  ...    arm  [[1.0, 1.0, 1.0, 1.0, 1.0, 1.0, 1.0, 1.0, 1.0,...\n",
              "3   7047          BE  ...  penis  [[1.0, 1.0, 1.0, 1.0, 1.0, 1.0, 1.0, 1.0, 1.0,...\n",
              "4   2664          CA  ...  penis  [[1.0, 1.0, 1.0, 1.0, 1.0, 1.0, 1.0, 1.0, 1.0,...\n",
              "\n",
              "[5 rows x 8 columns]"
            ]
          },
          "metadata": {
            "tags": []
          },
          "execution_count": 9
        }
      ]
    },
    {
      "cell_type": "code",
      "metadata": {
        "id": "POsfue7dpUnA",
        "colab_type": "code",
        "outputId": "e726974b-b190-403c-d0aa-ccdd0e7dadfa",
        "colab": {
          "base_uri": "https://localhost:8080/",
          "height": 281
        }
      },
      "source": [
        "# label target\n",
        "df4['target'] = [1 if x == 'penis' else 0 for x in df4['word']]\n",
        "df4.head()"
      ],
      "execution_count": 0,
      "outputs": [
        {
          "output_type": "execute_result",
          "data": {
            "text/html": [
              "<div>\n",
              "<style scoped>\n",
              "    .dataframe tbody tr th:only-of-type {\n",
              "        vertical-align: middle;\n",
              "    }\n",
              "\n",
              "    .dataframe tbody tr th {\n",
              "        vertical-align: top;\n",
              "    }\n",
              "\n",
              "    .dataframe thead th {\n",
              "        text-align: right;\n",
              "    }\n",
              "</style>\n",
              "<table border=\"1\" class=\"dataframe\">\n",
              "  <thead>\n",
              "    <tr style=\"text-align: right;\">\n",
              "      <th></th>\n",
              "      <th>index</th>\n",
              "      <th>countrycode</th>\n",
              "      <th>drawing</th>\n",
              "      <th>key_id</th>\n",
              "      <th>recognized</th>\n",
              "      <th>timestamp</th>\n",
              "      <th>word</th>\n",
              "      <th>drawing_np</th>\n",
              "      <th>target</th>\n",
              "    </tr>\n",
              "  </thead>\n",
              "  <tbody>\n",
              "    <tr>\n",
              "      <th>0</th>\n",
              "      <td>2308</td>\n",
              "      <td>US</td>\n",
              "      <td>[[[90, 40, 21, 5, 2, 0, 7, 40, 71, 117, 135, 1...</td>\n",
              "      <td>4872</td>\n",
              "      <td>True</td>\n",
              "      <td>2018-10-18 01:43:00.232000+00:00</td>\n",
              "      <td>penis</td>\n",
              "      <td>[[1.0, 1.0, 1.0, 1.0, 1.0, 1.0, 1.0, 1.0, 1.0,...</td>\n",
              "      <td>1</td>\n",
              "    </tr>\n",
              "    <tr>\n",
              "      <th>1</th>\n",
              "      <td>7759</td>\n",
              "      <td>ES</td>\n",
              "      <td>[[[55, 64, 69, 84, 100, 110, 118, 118, 104, 10...</td>\n",
              "      <td>12574</td>\n",
              "      <td>True</td>\n",
              "      <td>2019-03-04 14:40:59.641000+00:00</td>\n",
              "      <td>penis</td>\n",
              "      <td>[[0.0, 1.0, 1.0, 1.0, 1.0, 1.0, 1.0, 1.0, 1.0,...</td>\n",
              "      <td>1</td>\n",
              "    </tr>\n",
              "    <tr>\n",
              "      <th>2</th>\n",
              "      <td>5226</td>\n",
              "      <td>GB</td>\n",
              "      <td>[[[255, 241, 226, 217, 199, 190, 178, 171, 150...</td>\n",
              "      <td>5291422213210112</td>\n",
              "      <td>True</td>\n",
              "      <td>2017-03-21 17:48:05.150490</td>\n",
              "      <td>arm</td>\n",
              "      <td>[[1.0, 1.0, 1.0, 1.0, 1.0, 1.0, 1.0, 1.0, 1.0,...</td>\n",
              "      <td>0</td>\n",
              "    </tr>\n",
              "    <tr>\n",
              "      <th>3</th>\n",
              "      <td>7047</td>\n",
              "      <td>BE</td>\n",
              "      <td>[[[61, 91, 118, 146, 179, 229, 251, 255, 243, ...</td>\n",
              "      <td>11637</td>\n",
              "      <td>True</td>\n",
              "      <td>2018-11-23 11:04:20.827000+00:00</td>\n",
              "      <td>penis</td>\n",
              "      <td>[[1.0, 1.0, 1.0, 1.0, 1.0, 1.0, 1.0, 1.0, 1.0,...</td>\n",
              "      <td>1</td>\n",
              "    </tr>\n",
              "    <tr>\n",
              "      <th>4</th>\n",
              "      <td>2664</td>\n",
              "      <td>CA</td>\n",
              "      <td>[[[0, 43, 88], [173, 124, 79]], [[88, 81, 83, ...</td>\n",
              "      <td>5307</td>\n",
              "      <td>True</td>\n",
              "      <td>2018-10-18 12:32:27.940000+00:00</td>\n",
              "      <td>penis</td>\n",
              "      <td>[[1.0, 1.0, 1.0, 1.0, 1.0, 1.0, 1.0, 1.0, 1.0,...</td>\n",
              "      <td>1</td>\n",
              "    </tr>\n",
              "  </tbody>\n",
              "</table>\n",
              "</div>"
            ],
            "text/plain": [
              "   index countrycode  ...                                         drawing_np  target\n",
              "0   2308          US  ...  [[1.0, 1.0, 1.0, 1.0, 1.0, 1.0, 1.0, 1.0, 1.0,...       1\n",
              "1   7759          ES  ...  [[0.0, 1.0, 1.0, 1.0, 1.0, 1.0, 1.0, 1.0, 1.0,...       1\n",
              "2   5226          GB  ...  [[1.0, 1.0, 1.0, 1.0, 1.0, 1.0, 1.0, 1.0, 1.0,...       0\n",
              "3   7047          BE  ...  [[1.0, 1.0, 1.0, 1.0, 1.0, 1.0, 1.0, 1.0, 1.0,...       1\n",
              "4   2664          CA  ...  [[1.0, 1.0, 1.0, 1.0, 1.0, 1.0, 1.0, 1.0, 1.0,...       1\n",
              "\n",
              "[5 rows x 9 columns]"
            ]
          },
          "metadata": {
            "tags": []
          },
          "execution_count": 10
        }
      ]
    },
    {
      "cell_type": "code",
      "metadata": {
        "id": "ExpE19hlpXyL",
        "colab_type": "code",
        "colab": {}
      },
      "source": [
        "# get data in right format\n",
        "X = df4['drawing_np'].to_list()\n",
        "X = np.array(X).reshape(-1, imheight, imwidth, 1)"
      ],
      "execution_count": 0,
      "outputs": []
    },
    {
      "cell_type": "code",
      "metadata": {
        "id": "kOMX9eABpZpU",
        "colab_type": "code",
        "colab": {}
      },
      "source": [
        "# convert target to list\n",
        "y = df4['target'].to_list()\n",
        "y = np.array(y)"
      ],
      "execution_count": 0,
      "outputs": []
    },
    {
      "cell_type": "code",
      "metadata": {
        "id": "kj0xkUKLpa9r",
        "colab_type": "code",
        "outputId": "010c2a86-7142-40a4-ab23-8736ac4ea5ca",
        "colab": {
          "base_uri": "https://localhost:8080/",
          "height": 34
        }
      },
      "source": [
        "y[:20]"
      ],
      "execution_count": 0,
      "outputs": [
        {
          "output_type": "execute_result",
          "data": {
            "text/plain": [
              "array([1, 1, 0, 1, 1, 1, 1, 0, 0, 0, 0, 0, 1, 0, 0, 0, 0, 0, 1, 1])"
            ]
          },
          "metadata": {
            "tags": []
          },
          "execution_count": 14
        }
      ]
    },
    {
      "cell_type": "code",
      "metadata": {
        "id": "DHLeA6X0pcMa",
        "colab_type": "code",
        "colab": {}
      },
      "source": [
        "# train test split\n",
        "X_train, X_test, y_train, y_test = train_test_split(X, y, test_size=0.2, random_state=42)"
      ],
      "execution_count": 0,
      "outputs": []
    },
    {
      "cell_type": "code",
      "metadata": {
        "id": "oXkMK0CQpdfW",
        "colab_type": "code",
        "outputId": "30082f49-bd1a-4de6-f416-591108cc2976",
        "colab": {
          "base_uri": "https://localhost:8080/",
          "height": 34
        }
      },
      "source": [
        "len(X_train), len(X_test), len(y_train), len(y_test)"
      ],
      "execution_count": 0,
      "outputs": [
        {
          "output_type": "execute_result",
          "data": {
            "text/plain": [
              "(23996, 6000, 23996, 6000)"
            ]
          },
          "metadata": {
            "tags": []
          },
          "execution_count": 16
        }
      ]
    },
    {
      "cell_type": "code",
      "metadata": {
        "id": "aZXufCBupe8k",
        "colab_type": "code",
        "outputId": "07769afc-da7c-45cd-edb0-4ac1cd852dfc",
        "colab": {
          "base_uri": "https://localhost:8080/",
          "height": 52
        }
      },
      "source": [
        "# how many target variables are in the test set?\n",
        "unique, counts = np.unique(y_test, return_counts=True)\n",
        "\n",
        "table = np.asarray((unique, np.rint(counts))).T\n",
        "print(table)"
      ],
      "execution_count": 0,
      "outputs": [
        {
          "output_type": "stream",
          "text": [
            "[[0.000e+00 3.997e+03]\n",
            " [1.000e+00 2.003e+03]]\n"
          ],
          "name": "stdout"
        }
      ]
    },
    {
      "cell_type": "code",
      "metadata": {
        "id": "DS5Wos4epgQn",
        "colab_type": "code",
        "outputId": "d2576c4a-d448-4707-9cd1-86abead683d0",
        "colab": {
          "base_uri": "https://localhost:8080/",
          "height": 34
        }
      },
      "source": [
        "X_train.shape"
      ],
      "execution_count": 0,
      "outputs": [
        {
          "output_type": "execute_result",
          "data": {
            "text/plain": [
              "(23996, 64, 64, 1)"
            ]
          },
          "metadata": {
            "tags": []
          },
          "execution_count": 18
        }
      ]
    },
    {
      "cell_type": "markdown",
      "metadata": {
        "id": "SDZeRSsK6Qq_",
        "colab_type": "text"
      },
      "source": [
        "# 3. Train Model\n",
        "The parameters of the model were chosen through trial and error and hyperparameter tuning.  "
      ]
    },
    {
      "cell_type": "code",
      "metadata": {
        "id": "slmVVBqlpiQu",
        "colab_type": "code",
        "outputId": "e8f2fb13-8e9e-4800-fa73-4b2cc6e59dff",
        "colab": {
          "base_uri": "https://localhost:8080/",
          "height": 621
        }
      },
      "source": [
        "# convolutional neural network\n",
        "\n",
        "model = Sequential()\n",
        "model.add(Conv2D(64, (3,3), input_shape = X_train.shape[1:]))\n",
        "model.add(Activation('relu'))\n",
        "model.add(MaxPooling2D(pool_size=(2,2)))\n",
        "\n",
        "model.add(Conv2D(128, (3,3)))\n",
        "model.add(Activation('relu'))\n",
        "model.add(MaxPooling2D(pool_size=(2,2)))\n",
        "\n",
        "model.add(Conv2D(64, (3,3)))\n",
        "model.add(Activation('relu'))\n",
        "model.add(MaxPooling2D(pool_size=(2,2)))\n",
        "\n",
        "model.add(Flatten())\n",
        "model.add(Dense(64))\n",
        "\n",
        "model.add(Dense(1)) # change to number of classes\n",
        "model.add(Activation('sigmoid'))\n",
        "\n",
        "model.summary()"
      ],
      "execution_count": 0,
      "outputs": [
        {
          "output_type": "stream",
          "text": [
            "Model: \"sequential\"\n",
            "_________________________________________________________________\n",
            "Layer (type)                 Output Shape              Param #   \n",
            "=================================================================\n",
            "conv2d (Conv2D)              (None, 62, 62, 64)        640       \n",
            "_________________________________________________________________\n",
            "activation (Activation)      (None, 62, 62, 64)        0         \n",
            "_________________________________________________________________\n",
            "max_pooling2d (MaxPooling2D) (None, 31, 31, 64)        0         \n",
            "_________________________________________________________________\n",
            "conv2d_1 (Conv2D)            (None, 29, 29, 128)       73856     \n",
            "_________________________________________________________________\n",
            "activation_1 (Activation)    (None, 29, 29, 128)       0         \n",
            "_________________________________________________________________\n",
            "max_pooling2d_1 (MaxPooling2 (None, 14, 14, 128)       0         \n",
            "_________________________________________________________________\n",
            "conv2d_2 (Conv2D)            (None, 12, 12, 64)        73792     \n",
            "_________________________________________________________________\n",
            "activation_2 (Activation)    (None, 12, 12, 64)        0         \n",
            "_________________________________________________________________\n",
            "max_pooling2d_2 (MaxPooling2 (None, 6, 6, 64)          0         \n",
            "_________________________________________________________________\n",
            "flatten (Flatten)            (None, 2304)              0         \n",
            "_________________________________________________________________\n",
            "dense (Dense)                (None, 64)                147520    \n",
            "_________________________________________________________________\n",
            "dense_1 (Dense)              (None, 1)                 65        \n",
            "_________________________________________________________________\n",
            "activation_3 (Activation)    (None, 1)                 0         \n",
            "=================================================================\n",
            "Total params: 295,873\n",
            "Trainable params: 295,873\n",
            "Non-trainable params: 0\n",
            "_________________________________________________________________\n"
          ],
          "name": "stdout"
        }
      ]
    },
    {
      "cell_type": "code",
      "metadata": {
        "id": "3GMUx5ctpjwe",
        "colab_type": "code",
        "colab": {}
      },
      "source": [
        "# compile model\n",
        "model.compile(loss='binary_crossentropy',\n",
        "             optimizer='adam',\n",
        "             metrics=['accuracy'])"
      ],
      "execution_count": 0,
      "outputs": []
    },
    {
      "cell_type": "code",
      "metadata": {
        "id": "hiOohw98pmSn",
        "colab_type": "code",
        "outputId": "2b0887e6-51f1-4bc2-ddef-cf985eaeeceb",
        "colab": {
          "base_uri": "https://localhost:8080/",
          "height": 390
        }
      },
      "source": [
        "# fit model\n",
        "model.fit(X_train, y_train, batch_size=20, epochs=10, validation_split=0.2)"
      ],
      "execution_count": 0,
      "outputs": [
        {
          "output_type": "stream",
          "text": [
            "Epoch 1/10\n",
            "960/960 [==============================] - 15s 15ms/step - loss: 0.3203 - accuracy: 0.8589 - val_loss: 0.2097 - val_accuracy: 0.9179\n",
            "Epoch 2/10\n",
            "960/960 [==============================] - 14s 15ms/step - loss: 0.1696 - accuracy: 0.9333 - val_loss: 0.1494 - val_accuracy: 0.9429\n",
            "Epoch 3/10\n",
            "960/960 [==============================] - 14s 15ms/step - loss: 0.1285 - accuracy: 0.9502 - val_loss: 0.1463 - val_accuracy: 0.9417\n",
            "Epoch 4/10\n",
            "960/960 [==============================] - 14s 15ms/step - loss: 0.1023 - accuracy: 0.9604 - val_loss: 0.1243 - val_accuracy: 0.9508\n",
            "Epoch 5/10\n",
            "960/960 [==============================] - 14s 15ms/step - loss: 0.0812 - accuracy: 0.9688 - val_loss: 0.1082 - val_accuracy: 0.9588\n",
            "Epoch 6/10\n",
            "960/960 [==============================] - 14s 15ms/step - loss: 0.0642 - accuracy: 0.9758 - val_loss: 0.1243 - val_accuracy: 0.9610\n",
            "Epoch 7/10\n",
            "960/960 [==============================] - 14s 15ms/step - loss: 0.0504 - accuracy: 0.9821 - val_loss: 0.1590 - val_accuracy: 0.9527\n",
            "Epoch 8/10\n",
            "960/960 [==============================] - 14s 15ms/step - loss: 0.0411 - accuracy: 0.9841 - val_loss: 0.1556 - val_accuracy: 0.9521\n",
            "Epoch 9/10\n",
            "960/960 [==============================] - 14s 15ms/step - loss: 0.0343 - accuracy: 0.9870 - val_loss: 0.1432 - val_accuracy: 0.9585\n",
            "Epoch 10/10\n",
            "960/960 [==============================] - 14s 15ms/step - loss: 0.0286 - accuracy: 0.9886 - val_loss: 0.1742 - val_accuracy: 0.9567\n"
          ],
          "name": "stdout"
        },
        {
          "output_type": "execute_result",
          "data": {
            "text/plain": [
              "<tensorflow.python.keras.callbacks.History at 0x7f68f05c69e8>"
            ]
          },
          "metadata": {
            "tags": []
          },
          "execution_count": 24
        }
      ]
    },
    {
      "cell_type": "markdown",
      "metadata": {
        "id": "Ts3KiJ0A6Wao",
        "colab_type": "text"
      },
      "source": [
        "# 4. Test Model\n",
        "The model works well (95% accuracy) on data similar to the training data.  The model had difficulty generalizing on hand drawn images.  The training images are drawn with a mouse on a plain white background.  The real world test data are pictures of images drawn on paper with different angles, shadows, brightness, backgrounds; lined paper, blank paper, colored paper etc.  Improvements were made by making test images look like the training images by removing the background, and connecting broken/dotted lines by making the lines thicker.  In our object detection notebook we tried to make the training data look more like the test data through creating our own dataset by drawing images and image augmentation."
      ]
    },
    {
      "cell_type": "code",
      "metadata": {
        "id": "9yG5TY6Q678u",
        "colab_type": "code",
        "outputId": "c0130f19-be76-4bfa-ad6a-27daea065768",
        "colab": {
          "base_uri": "https://localhost:8080/",
          "height": 87
        }
      },
      "source": [
        "# evaluate model on test data\n",
        "print('\\n# Evaluate on test data')\n",
        "results = model.evaluate(X_test, y_test, batch_size=128)\n",
        "print('test loss, test acc:', results)"
      ],
      "execution_count": 0,
      "outputs": [
        {
          "output_type": "stream",
          "text": [
            "\n",
            "# Evaluate on test data\n",
            "47/47 [==============================] - 1s 21ms/step - loss: 0.1908 - accuracy: 0.9552\n",
            "test loss, test acc: [0.19084306061267853, 0.9551666378974915]\n"
          ],
          "name": "stdout"
        }
      ]
    },
    {
      "cell_type": "code",
      "metadata": {
        "id": "V8fk2hJ0rzk4",
        "colab_type": "code",
        "colab": {}
      },
      "source": [
        "# function that prints model predicts penis if prediction > .5\n",
        "def show_pred(prediction):\n",
        "    if prediction[0] > .5:\n",
        "        print('Model predicts penis')\n",
        "    else:\n",
        "        print('Model predicts not penis')"
      ],
      "execution_count": 0,
      "outputs": []
    },
    {
      "cell_type": "code",
      "metadata": {
        "id": "NRh7WjZ9rzna",
        "colab_type": "code",
        "outputId": "288b2aa7-efb7-49f9-9f99-8c39390d8e7e",
        "colab": {
          "base_uri": "https://localhost:8080/",
          "height": 301
        }
      },
      "source": [
        "# test hand drawn images with model\n",
        "def prepare(filepath):\n",
        "    IMG_SIZE = 64\n",
        "    img_array = cv2.imread(filepath, cv2.IMREAD_GRAYSCALE)\n",
        "    # denoise the background\n",
        "    img_array = cv2.fastNlMeansDenoising(img_array, None, 10, 7, 21)\n",
        "    # remove the background to make it look more like the training data\n",
        "    img_array = cv2.adaptiveThreshold(img_array, 255, cv2.ADAPTIVE_THRESH_MEAN_C,\n",
        "                                      cv2.THRESH_BINARY,11,2)\n",
        "    # make lines thicker with erosion to connect broken lines\n",
        "    kernel = np.ones((8,8),np.uint8)\n",
        "    img_array = cv2.erode(img_array, kernel, iterations=1)\n",
        "    # resize\n",
        "    new_array = cv2.resize(img_array, (IMG_SIZE, IMG_SIZE))\n",
        "    plt.imshow(new_array, cmap='gray')\n",
        "    new_array = new_array.reshape(-1, IMG_SIZE, IMG_SIZE, 1)\n",
        "    return new_array\n",
        "\n",
        "# change to path of image NOT in training data, like an actual drawing on paper\n",
        "filepath = '/content/drive/My Drive/phallic-paper-background/IMG_2298.jpg'\n",
        "\n",
        "prediction = model.predict([prepare(filepath)])\n",
        "\n",
        "print(prediction[0])\n",
        "\n",
        "show_pred(prediction)"
      ],
      "execution_count": 0,
      "outputs": [
        {
          "output_type": "stream",
          "text": [
            "[0.]\n",
            "Model predicts not penis\n"
          ],
          "name": "stdout"
        },
        {
          "output_type": "display_data",
          "data": {
            "image/png": "[encoded data removed]",
            "text/plain": [
              "<Figure size 432x288 with 1 Axes>"
            ]
          },
          "metadata": {
            "tags": [],
            "needs_background": "light"
          }
        }
      ]
    },
    {
      "cell_type": "code",
      "metadata": {
        "id": "HERp2rq9rzpc",
        "colab_type": "code",
        "outputId": "fca07447-5937-4d5b-bd98-bee5573a9170",
        "colab": {
          "base_uri": "https://localhost:8080/",
          "height": 321
        }
      },
      "source": [
        "# iterates over files in test image directory to automate testing\n",
        "# on phallic images only! - shows recall\n",
        "\n",
        "# change directory to one containing images\n",
        "directory = '/content/drive/My Drive/phallic-paper-background'\n",
        "\n",
        "def prepare(filepath):\n",
        "    IMG_SIZE = 64\n",
        "    img_array = cv2.imread(filepath, cv2.IMREAD_GRAYSCALE)\n",
        "    # denoise the background\n",
        "    img_array = cv2.fastNlMeansDenoising(img_array, None, 10, 7, 21)\n",
        "    # remove the background to make it look more like the training data\n",
        "    img_array = cv2.adaptiveThreshold(img_array, 255, cv2.ADAPTIVE_THRESH_MEAN_C,\n",
        "                                      cv2.THRESH_BINARY,11,2)\n",
        "    # make lines thicker with erosion to connect broken lines\n",
        "    kernel = np.ones((8,8),np.uint8)\n",
        "    img_array = cv2.erode(img_array, kernel, iterations=1)\n",
        "    # resize\n",
        "    new_array = cv2.resize(img_array, (IMG_SIZE, IMG_SIZE))\n",
        "    plt.imshow(new_array, cmap='gray')\n",
        "    new_array = new_array.reshape(-1, IMG_SIZE, IMG_SIZE, 1)\n",
        "    return new_array\n",
        "\n",
        "pred_list = []\n",
        "\n",
        "for filename in os.listdir(directory):\n",
        "    if filename.endswith('.png') or filename.endswith('.jpg'):\n",
        "        filepath = directory + '/' + filename\n",
        "        prediction = model.predict([prepare(filepath)])\n",
        "        pred_list.append(np.rint(prediction[0]))\n",
        "    else:\n",
        "        pass\n",
        "    \n",
        "tp = pred_list.count(1)\n",
        "fn = pred_list.count(0)\n",
        "\n",
        "recall = tp / (tp + fn)\n",
        "recall = round(recall, 2)\n",
        "\n",
        "print('True Positive:', tp)\n",
        "print('False Negative:', fn)\n",
        "print('Recall:', str(recall) + '%')"
      ],
      "execution_count": 0,
      "outputs": [
        {
          "output_type": "stream",
          "text": [
            "True Positive: 21\n",
            "False Negative: 17\n",
            "Recall: 0.55%\n"
          ],
          "name": "stdout"
        },
        {
          "output_type": "display_data",
          "data": {
            "image/png": "[encoded data removed]",
            "text/plain": [
              "<Figure size 432x288 with 1 Axes>"
            ]
          },
          "metadata": {
            "tags": [],
            "needs_background": "light"
          }
        }
      ]
    },
    {
      "cell_type": "code",
      "metadata": {
        "id": "aUm1_MB9yr8U",
        "colab_type": "code",
        "outputId": "4b48e297-3c92-46ec-c9dc-782885222a5d",
        "colab": {
          "base_uri": "https://localhost:8080/",
          "height": 321
        }
      },
      "source": [
        "# iterates over files in test image directory to automate testing\n",
        "# on non-phallic images only! shows specificity\n",
        "\n",
        "# change directory to one containing images\n",
        "directory = '/content/drive/My Drive/non-phallic'\n",
        "\n",
        "def prepare(filepath):\n",
        "    IMG_SIZE = 64\n",
        "    img_array = cv2.imread(filepath, cv2.IMREAD_GRAYSCALE)\n",
        "    # denoise the background\n",
        "    img_array = cv2.fastNlMeansDenoising(img_array, None, 10, 7, 21)\n",
        "    # remove the background to make it look more like the training data\n",
        "    img_array = cv2.adaptiveThreshold(img_array, 255, cv2.ADAPTIVE_THRESH_MEAN_C,\n",
        "                                      cv2.THRESH_BINARY,11,2)\n",
        "    # make lines thicker with erosion to connect broken lines\n",
        "    kernel = np.ones((8,8),np.uint8)\n",
        "    img_array = cv2.erode(img_array, kernel, iterations=1)\n",
        "    # resize\n",
        "    new_array = cv2.resize(img_array, (IMG_SIZE, IMG_SIZE))\n",
        "    plt.imshow(new_array, cmap='gray')\n",
        "    new_array = new_array.reshape(-1, IMG_SIZE, IMG_SIZE, 1)\n",
        "    return new_array\n",
        "\n",
        "pred_list = []\n",
        "\n",
        "for filename in os.listdir(directory):\n",
        "    if filename.endswith('.png') or filename.endswith('.jpg'):\n",
        "        filepath = directory + '/' + filename\n",
        "        prediction = model.predict([prepare(filepath)])\n",
        "        pred_list.append(np.rint(prediction[0]))\n",
        "    else:\n",
        "        pass\n",
        "\n",
        "fp = pred_list.count(1)\n",
        "tn = pred_list.count(0)\n",
        "\n",
        "specificity =  tn / (tn + fp)\n",
        "specificity = round(specificity, 2)\n",
        "\n",
        "print('False Positive:', fp)\n",
        "print('True Negative:', tn)\n",
        "print('Specificity', str(specificity) + '%')"
      ],
      "execution_count": 0,
      "outputs": [
        {
          "output_type": "stream",
          "text": [
            "False Positive: 4\n",
            "True Negative: 29\n",
            "Specificity 0.88%\n"
          ],
          "name": "stdout"
        },
        {
          "output_type": "display_data",
          "data": {
            "image/png": "[encoded data removed]",
            "text/plain": [
              "<Figure size 432x288 with 1 Axes>"
            ]
          },
          "metadata": {
            "tags": [],
            "needs_background": "light"
          }
        }
      ]
    },
    {
      "cell_type": "code",
      "metadata": {
        "id": "-jM0camry7KC",
        "colab_type": "code",
        "outputId": "d2124abd-208d-4f8d-f2ba-b0769c364fa6",
        "colab": {
          "base_uri": "https://localhost:8080/",
          "height": 34
        }
      },
      "source": [
        "# accuracy calculation for all drawings \n",
        "accuracy = (tp + tn) / (tp + tn + fp + fn)\n",
        "accuracy = round(accuracy, 2)\n",
        "print('Accuracy:', str(accuracy) + '%')"
      ],
      "execution_count": 0,
      "outputs": [
        {
          "output_type": "stream",
          "text": [
            "Accuracy: 0.7%\n"
          ],
          "name": "stdout"
        }
      ]
    },
    {
      "cell_type": "code",
      "metadata": {
        "id": "xFFkGAOS3zOH",
        "colab_type": "code",
        "outputId": "d4476083-86ff-4d82-dba2-0db264153a8c",
        "colab": {
          "base_uri": "https://localhost:8080/",
          "height": 34
        }
      },
      "source": [
        "# save model for later use\n",
        "model.save('/content/drive/My Drive/64x64-Airplane-Arm-70.model')"
      ],
      "execution_count": 0,
      "outputs": [
        {
          "output_type": "stream",
          "text": [
            "INFO:tensorflow:Assets written to: /content/drive/My Drive/64x64-Airplane-Arm-70.model/assets\n"
          ],
          "name": "stdout"
        }
      ]
    }
  ],
  "metadata": {
    "colab": {
      "name": "Quickdraw Phallus Classifier.ipynb",
      "provenance": [],
      "collapsed_sections": []
    },
    "kernelspec": {
      "name": "python3",
      "display_name": "Python 3"
    },
    "accelerator": "GPU"
  },
  "nbformat": 4,
  "nbformat_minor": 0
}