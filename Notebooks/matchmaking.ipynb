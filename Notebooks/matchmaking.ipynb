{
 "cells": [
  {
   "cell_type": "code",
   "execution_count": 47,
   "metadata": {},
   "outputs": [],
   "source": [
    "import pandas as pd\n",
    "from sklearn.cluster import KMeans\n",
    "from sklearn.preprocessing import StandardScaler"
   ]
  },
  {
   "cell_type": "code",
   "execution_count": 29,
   "metadata": {},
   "outputs": [],
   "source": [
    "file = pd.read_json(\"../matchmaking_test.json\")"
   ]
  },
  {
   "cell_type": "code",
   "execution_count": 30,
   "metadata": {},
   "outputs": [],
   "source": [
    "file = file.T"
   ]
  },
  {
   "cell_type": "code",
   "execution_count": 31,
   "metadata": {},
   "outputs": [
    {
     "data": {
      "text/plain": [
       "(167, 14)"
      ]
     },
     "execution_count": 31,
     "metadata": {},
     "output_type": "execute_result"
    }
   ],
   "source": [
    "file.shape"
   ]
  },
  {
   "cell_type": "code",
   "execution_count": 32,
   "metadata": {},
   "outputs": [],
   "source": [
    "df = file.reset_index()"
   ]
  },
  {
   "cell_type": "code",
   "execution_count": 33,
   "metadata": {},
   "outputs": [
    {
     "data": {
      "text/plain": [
       "index                            int64\n",
       "automated_readability_index     object\n",
       "coleman_liau_index              object\n",
       "consolidated_score              object\n",
       "dale_chall_readability score    object\n",
       "difficult_words                 object\n",
       "doc_length                      object\n",
       "flesch_kincaid_grade_level      object\n",
       "flesch_reading_ease             object\n",
       "grade                           object\n",
       "gunning_fog                     object\n",
       "linsear_write_formula           object\n",
       "quote_count                     object\n",
       "smog_index                      object\n",
       "username                        object\n",
       "dtype: object"
      ]
     },
     "execution_count": 33,
     "metadata": {},
     "output_type": "execute_result"
    }
   ],
   "source": [
    "df.dtypes"
   ]
  },
  {
   "cell_type": "code",
   "execution_count": 35,
   "metadata": {},
   "outputs": [],
   "source": [
    "df = df.rename(columns={\"index\":\"story_id\"})\n",
    "df = df.drop(columns=['username'])"
   ]
  },
  {
   "cell_type": "code",
   "execution_count": 36,
   "metadata": {},
   "outputs": [],
   "source": [
    "df['automated_readability_index'] = df['automated_readability_index'].astype('float64')\n",
    "df['coleman_liau_index'] = df['coleman_liau_index'].astype('float64')\n",
    "df['consolidated_score'] = df['consolidated_score'].astype('float64')\n",
    "df['dale_chall_readability score'] = df['dale_chall_readability score'].astype('float64')\n",
    "df['difficult_words'] = df['difficult_words'].astype('float64')\n",
    "df['doc_length'] = df['doc_length'].astype('float64')\n",
    "df['flesch_kincaid_grade_level'] = df['flesch_kincaid_grade_level'].astype('float64')\n",
    "df['flesch_reading_ease'] = df['flesch_reading_ease'].astype('float64')\n",
    "df['grade'] = df['grade'].astype('float64')\n",
    "df['gunning_fog'] = df['gunning_fog'].astype('float64')\n",
    "df['linsear_write_formula'] = df['linsear_write_formula'].astype('float64')\n",
    "df['quote_count'] = df['quote_count'].astype('float64')\n",
    "df['smog_index'] = df['smog_index'].astype('float64')"
   ]
  },
  {
   "cell_type": "code",
   "execution_count": 37,
   "metadata": {},
   "outputs": [
    {
     "data": {
      "text/plain": [
       "story_id                          int64\n",
       "automated_readability_index     float64\n",
       "coleman_liau_index              float64\n",
       "consolidated_score              float64\n",
       "dale_chall_readability score    float64\n",
       "difficult_words                 float64\n",
       "doc_length                      float64\n",
       "flesch_kincaid_grade_level      float64\n",
       "flesch_reading_ease             float64\n",
       "grade                           float64\n",
       "gunning_fog                     float64\n",
       "linsear_write_formula           float64\n",
       "quote_count                     float64\n",
       "smog_index                      float64\n",
       "dtype: object"
      ]
     },
     "execution_count": 37,
     "metadata": {},
     "output_type": "execute_result"
    }
   ],
   "source": [
    "df.dtypes"
   ]
  },
  {
   "cell_type": "code",
   "execution_count": 38,
   "metadata": {},
   "outputs": [
    {
     "data": {
      "text/plain": [
       "(167, 14)"
      ]
     },
     "execution_count": 38,
     "metadata": {},
     "output_type": "execute_result"
    }
   ],
   "source": [
    "df.shape"
   ]
  },
  {
   "cell_type": "code",
   "execution_count": 40,
   "metadata": {},
   "outputs": [
    {
     "data": {
      "text/html": [
       "<div>\n",
       "<style scoped>\n",
       "    .dataframe tbody tr th:only-of-type {\n",
       "        vertical-align: middle;\n",
       "    }\n",
       "\n",
       "    .dataframe tbody tr th {\n",
       "        vertical-align: top;\n",
       "    }\n",
       "\n",
       "    .dataframe thead th {\n",
       "        text-align: right;\n",
       "    }\n",
       "</style>\n",
       "<table border=\"1\" class=\"dataframe\">\n",
       "  <thead>\n",
       "    <tr style=\"text-align: right;\">\n",
       "      <th></th>\n",
       "      <th>story_id</th>\n",
       "      <th>automated_readability_index</th>\n",
       "      <th>coleman_liau_index</th>\n",
       "      <th>consolidated_score</th>\n",
       "      <th>dale_chall_readability score</th>\n",
       "      <th>difficult_words</th>\n",
       "      <th>doc_length</th>\n",
       "      <th>flesch_kincaid_grade_level</th>\n",
       "      <th>flesch_reading_ease</th>\n",
       "      <th>grade</th>\n",
       "      <th>gunning_fog</th>\n",
       "      <th>linsear_write_formula</th>\n",
       "      <th>quote_count</th>\n",
       "      <th>smog_index</th>\n",
       "    </tr>\n",
       "  </thead>\n",
       "  <tbody>\n",
       "    <tr>\n",
       "      <th>0</th>\n",
       "      <td>3132</td>\n",
       "      <td>20.2</td>\n",
       "      <td>6.92</td>\n",
       "      <td>7.0</td>\n",
       "      <td>6.67</td>\n",
       "      <td>14.0</td>\n",
       "      <td>1369.0</td>\n",
       "      <td>15.9</td>\n",
       "      <td>60.15</td>\n",
       "      <td>3.0</td>\n",
       "      <td>17.95</td>\n",
       "      <td>25.00</td>\n",
       "      <td>6.0</td>\n",
       "      <td>9.3</td>\n",
       "    </tr>\n",
       "    <tr>\n",
       "      <th>1</th>\n",
       "      <td>3104</td>\n",
       "      <td>4.2</td>\n",
       "      <td>4.17</td>\n",
       "      <td>5.0</td>\n",
       "      <td>6.00</td>\n",
       "      <td>18.0</td>\n",
       "      <td>847.0</td>\n",
       "      <td>4.1</td>\n",
       "      <td>90.80</td>\n",
       "      <td>3.0</td>\n",
       "      <td>6.19</td>\n",
       "      <td>10.40</td>\n",
       "      <td>0.0</td>\n",
       "      <td>6.4</td>\n",
       "    </tr>\n",
       "    <tr>\n",
       "      <th>2</th>\n",
       "      <td>3103</td>\n",
       "      <td>13.9</td>\n",
       "      <td>5.70</td>\n",
       "      <td>14.0</td>\n",
       "      <td>6.62</td>\n",
       "      <td>14.0</td>\n",
       "      <td>828.0</td>\n",
       "      <td>11.6</td>\n",
       "      <td>71.41</td>\n",
       "      <td>3.0</td>\n",
       "      <td>14.32</td>\n",
       "      <td>13.25</td>\n",
       "      <td>1.0</td>\n",
       "      <td>8.2</td>\n",
       "    </tr>\n",
       "    <tr>\n",
       "      <th>3</th>\n",
       "      <td>3117</td>\n",
       "      <td>49.8</td>\n",
       "      <td>4.84</td>\n",
       "      <td>41.0</td>\n",
       "      <td>10.60</td>\n",
       "      <td>11.0</td>\n",
       "      <td>507.0</td>\n",
       "      <td>40.7</td>\n",
       "      <td>-4.31</td>\n",
       "      <td>3.0</td>\n",
       "      <td>44.68</td>\n",
       "      <td>54.00</td>\n",
       "      <td>0.0</td>\n",
       "      <td>0.0</td>\n",
       "    </tr>\n",
       "    <tr>\n",
       "      <th>4</th>\n",
       "      <td>3102</td>\n",
       "      <td>4.6</td>\n",
       "      <td>4.17</td>\n",
       "      <td>5.0</td>\n",
       "      <td>5.95</td>\n",
       "      <td>37.0</td>\n",
       "      <td>1832.0</td>\n",
       "      <td>4.3</td>\n",
       "      <td>90.29</td>\n",
       "      <td>3.0</td>\n",
       "      <td>7.22</td>\n",
       "      <td>10.80</td>\n",
       "      <td>0.0</td>\n",
       "      <td>8.0</td>\n",
       "    </tr>\n",
       "  </tbody>\n",
       "</table>\n",
       "</div>"
      ],
      "text/plain": [
       "   story_id  automated_readability_index  coleman_liau_index  \\\n",
       "0      3132                         20.2                6.92   \n",
       "1      3104                          4.2                4.17   \n",
       "2      3103                         13.9                5.70   \n",
       "3      3117                         49.8                4.84   \n",
       "4      3102                          4.6                4.17   \n",
       "\n",
       "   consolidated_score  dale_chall_readability score  difficult_words  \\\n",
       "0                 7.0                          6.67             14.0   \n",
       "1                 5.0                          6.00             18.0   \n",
       "2                14.0                          6.62             14.0   \n",
       "3                41.0                         10.60             11.0   \n",
       "4                 5.0                          5.95             37.0   \n",
       "\n",
       "   doc_length  flesch_kincaid_grade_level  flesch_reading_ease  grade  \\\n",
       "0      1369.0                        15.9                60.15    3.0   \n",
       "1       847.0                         4.1                90.80    3.0   \n",
       "2       828.0                        11.6                71.41    3.0   \n",
       "3       507.0                        40.7                -4.31    3.0   \n",
       "4      1832.0                         4.3                90.29    3.0   \n",
       "\n",
       "   gunning_fog  linsear_write_formula  quote_count  smog_index  \n",
       "0        17.95                  25.00          6.0         9.3  \n",
       "1         6.19                  10.40          0.0         6.4  \n",
       "2        14.32                  13.25          1.0         8.2  \n",
       "3        44.68                  54.00          0.0         0.0  \n",
       "4         7.22                  10.80          0.0         8.0  "
      ]
     },
     "execution_count": 40,
     "metadata": {},
     "output_type": "execute_result"
    }
   ],
   "source": [
    "df.head()"
   ]
  },
  {
   "cell_type": "code",
   "execution_count": 50,
   "metadata": {},
   "outputs": [],
   "source": [
    "K = round(len(df) / 4)\n"
   ]
  },
  {
   "cell_type": "code",
   "execution_count": 51,
   "metadata": {},
   "outputs": [
    {
     "data": {
      "text/plain": [
       "42"
      ]
     },
     "execution_count": 51,
     "metadata": {},
     "output_type": "execute_result"
    }
   ],
   "source": [
    "K"
   ]
  },
  {
   "cell_type": "code",
   "execution_count": 42,
   "metadata": {},
   "outputs": [],
   "source": [
    "scaler = StandardScaler()"
   ]
  },
  {
   "cell_type": "code",
   "execution_count": 43,
   "metadata": {},
   "outputs": [],
   "source": [
    "target = 'story_id'\n",
    "X = df.drop(columns = [target])\n",
    "y = df[target]"
   ]
  },
  {
   "cell_type": "code",
   "execution_count": 44,
   "metadata": {},
   "outputs": [
    {
     "data": {
      "text/plain": [
       "array([[ 0.50167024,  0.89502781, -0.07596704, ...,  1.18117494,\n",
       "        -0.27699801,  1.0677134 ],\n",
       "       [-0.4693982 , -0.83749704, -0.42836967, ..., -0.14673072,\n",
       "        -0.88834606, -0.1895042 ],\n",
       "       [ 0.11931204,  0.12641678,  1.1574422 , ...,  0.11248374,\n",
       "        -0.78645472,  0.59083776],\n",
       "       ...,\n",
       "       [-0.1416626 ,  0.55482293, -0.25216836, ..., -0.14673072,\n",
       "        -0.58267204, -0.27620886],\n",
       "       [-0.4693982 , -0.77449614, -0.42836967, ..., -0.59239769,\n",
       "         1.25137209, -0.62302751],\n",
       "       [-0.20235438, -1.12100111,  0.2764356 , ..., -0.09215925,\n",
       "        -0.37888936,  0.72089475]])"
      ]
     },
     "execution_count": 44,
     "metadata": {},
     "output_type": "execute_result"
    }
   ],
   "source": [
    "norm_X = scaler.fit_transform(X)\n",
    "norm_X"
   ]
  },
  {
   "cell_type": "code",
   "execution_count": 98,
   "metadata": {},
   "outputs": [],
   "source": [
    "model = KMeans(n_clusters = 4)\n",
    "labels = model.fit_predict(X)"
   ]
  },
  {
   "cell_type": "code",
   "execution_count": 99,
   "metadata": {},
   "outputs": [],
   "source": [
    "labels = list(labels)"
   ]
  },
  {
   "cell_type": "code",
   "execution_count": 100,
   "metadata": {},
   "outputs": [],
   "source": [
    "df['grp'] = labels"
   ]
  },
  {
   "cell_type": "code",
   "execution_count": 101,
   "metadata": {},
   "outputs": [],
   "source": [
    "# df[['story_id','grp']].sort_values('grp')"
   ]
  },
  {
   "cell_type": "code",
   "execution_count": 102,
   "metadata": {},
   "outputs": [
    {
     "data": {
      "text/plain": [
       "3    67\n",
       "0    50\n",
       "1    41\n",
       "2     9\n",
       "Name: grp, dtype: int64"
      ]
     },
     "execution_count": 102,
     "metadata": {},
     "output_type": "execute_result"
    }
   ],
   "source": [
    "df['grp'].value_counts()"
   ]
  },
  {
   "cell_type": "code",
   "execution_count": 72,
   "metadata": {},
   "outputs": [
    {
     "data": {
      "text/plain": [
       "1"
      ]
     },
     "execution_count": 72,
     "metadata": {},
     "output_type": "execute_result"
    }
   ],
   "source": []
  },
  {
   "cell_type": "code",
   "execution_count": 67,
   "metadata": {},
   "outputs": [
    {
     "data": {
      "text/plain": [
       "{3132: 1}"
      ]
     },
     "execution_count": 67,
     "metadata": {},
     "output_type": "execute_result"
    }
   ],
   "source": [
    "grp"
   ]
  },
  {
   "cell_type": "code",
   "execution_count": null,
   "metadata": {},
   "outputs": [],
   "source": []
  }
 ],
 "metadata": {
  "kernelspec": {
   "display_name": "Python 3",
   "language": "python",
   "name": "python3"
  },
  "language_info": {
   "codemirror_mode": {
    "name": "ipython",
    "version": 3
   },
   "file_extension": ".py",
   "mimetype": "text/x-python",
   "name": "python",
   "nbconvert_exporter": "python",
   "pygments_lexer": "ipython3",
   "version": "3.7.3"
  }
 },
 "nbformat": 4,
 "nbformat_minor": 4
}
