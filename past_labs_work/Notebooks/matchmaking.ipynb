{
 "cells": [
  {
   "cell_type": "code",
   "execution_count": 1,
   "metadata": {},
   "outputs": [],
   "source": [
    "import pandas as pd\n",
    "from matplotlib import pyplot as plt\n",
    "from sklearn.cluster import KMeans, AgglomerativeClustering\n",
    "from sklearn.preprocessing import StandardScaler\n",
    "import scipy.cluster.hierarchy as sch"
   ]
  },
  {
   "cell_type": "code",
   "execution_count": 2,
   "metadata": {},
   "outputs": [],
   "source": [
    "file = pd.read_json(\"../integration/src/matchmaking_test.json\")"
   ]
  },
  {
   "cell_type": "code",
   "execution_count": 3,
   "metadata": {},
   "outputs": [],
   "source": [
    "df = file.T"
   ]
  },
  {
   "cell_type": "code",
   "execution_count": 4,
   "metadata": {},
   "outputs": [
    {
     "data": {
      "text/plain": [
       "(167, 13)"
      ]
     },
     "execution_count": 4,
     "metadata": {},
     "output_type": "execute_result"
    }
   ],
   "source": [
    "df.shape"
   ]
  },
  {
   "cell_type": "code",
   "execution_count": 112,
   "metadata": {},
   "outputs": [],
   "source": [
    "#df = file.reset_index()"
   ]
  },
  {
   "cell_type": "code",
   "execution_count": 5,
   "metadata": {},
   "outputs": [
    {
     "data": {
      "text/html": [
       "<div>\n",
       "<style scoped>\n",
       "    .dataframe tbody tr th:only-of-type {\n",
       "        vertical-align: middle;\n",
       "    }\n",
       "\n",
       "    .dataframe tbody tr th {\n",
       "        vertical-align: top;\n",
       "    }\n",
       "\n",
       "    .dataframe thead th {\n",
       "        text-align: right;\n",
       "    }\n",
       "</style>\n",
       "<table border=\"1\" class=\"dataframe\">\n",
       "  <thead>\n",
       "    <tr style=\"text-align: right;\">\n",
       "      <th></th>\n",
       "      <th>automated_readability_index</th>\n",
       "      <th>coleman_liau_index</th>\n",
       "      <th>consolidated_score</th>\n",
       "      <th>dale_chall_readability score</th>\n",
       "      <th>difficult_words</th>\n",
       "      <th>doc_length</th>\n",
       "      <th>flesch_kincaid_grade_level</th>\n",
       "      <th>flesch_reading_ease</th>\n",
       "      <th>grade</th>\n",
       "      <th>gunning_fog</th>\n",
       "      <th>linsear_write_formula</th>\n",
       "      <th>quote_count</th>\n",
       "      <th>smog_index</th>\n",
       "    </tr>\n",
       "  </thead>\n",
       "  <tbody>\n",
       "    <tr>\n",
       "      <th>3132</th>\n",
       "      <td>20.2</td>\n",
       "      <td>6.92</td>\n",
       "      <td>7.0</td>\n",
       "      <td>6.67</td>\n",
       "      <td>14.0</td>\n",
       "      <td>1369.0</td>\n",
       "      <td>15.9</td>\n",
       "      <td>60.15</td>\n",
       "      <td>3.0</td>\n",
       "      <td>17.95</td>\n",
       "      <td>25.00</td>\n",
       "      <td>6.0</td>\n",
       "      <td>9.3</td>\n",
       "    </tr>\n",
       "    <tr>\n",
       "      <th>3104</th>\n",
       "      <td>4.2</td>\n",
       "      <td>4.17</td>\n",
       "      <td>5.0</td>\n",
       "      <td>6.00</td>\n",
       "      <td>18.0</td>\n",
       "      <td>847.0</td>\n",
       "      <td>4.1</td>\n",
       "      <td>90.80</td>\n",
       "      <td>3.0</td>\n",
       "      <td>6.19</td>\n",
       "      <td>10.40</td>\n",
       "      <td>0.0</td>\n",
       "      <td>6.4</td>\n",
       "    </tr>\n",
       "    <tr>\n",
       "      <th>3103</th>\n",
       "      <td>13.9</td>\n",
       "      <td>5.70</td>\n",
       "      <td>14.0</td>\n",
       "      <td>6.62</td>\n",
       "      <td>14.0</td>\n",
       "      <td>828.0</td>\n",
       "      <td>11.6</td>\n",
       "      <td>71.41</td>\n",
       "      <td>3.0</td>\n",
       "      <td>14.32</td>\n",
       "      <td>13.25</td>\n",
       "      <td>1.0</td>\n",
       "      <td>8.2</td>\n",
       "    </tr>\n",
       "    <tr>\n",
       "      <th>3117</th>\n",
       "      <td>49.8</td>\n",
       "      <td>4.84</td>\n",
       "      <td>41.0</td>\n",
       "      <td>10.60</td>\n",
       "      <td>11.0</td>\n",
       "      <td>507.0</td>\n",
       "      <td>40.7</td>\n",
       "      <td>-4.31</td>\n",
       "      <td>3.0</td>\n",
       "      <td>44.68</td>\n",
       "      <td>54.00</td>\n",
       "      <td>0.0</td>\n",
       "      <td>0.0</td>\n",
       "    </tr>\n",
       "    <tr>\n",
       "      <th>3102</th>\n",
       "      <td>4.6</td>\n",
       "      <td>4.17</td>\n",
       "      <td>5.0</td>\n",
       "      <td>5.95</td>\n",
       "      <td>37.0</td>\n",
       "      <td>1832.0</td>\n",
       "      <td>4.3</td>\n",
       "      <td>90.29</td>\n",
       "      <td>3.0</td>\n",
       "      <td>7.22</td>\n",
       "      <td>10.80</td>\n",
       "      <td>0.0</td>\n",
       "      <td>8.0</td>\n",
       "    </tr>\n",
       "  </tbody>\n",
       "</table>\n",
       "</div>"
      ],
      "text/plain": [
       "      automated_readability_index  coleman_liau_index  consolidated_score  \\\n",
       "3132                         20.2                6.92                 7.0   \n",
       "3104                          4.2                4.17                 5.0   \n",
       "3103                         13.9                5.70                14.0   \n",
       "3117                         49.8                4.84                41.0   \n",
       "3102                          4.6                4.17                 5.0   \n",
       "\n",
       "      dale_chall_readability score  difficult_words  doc_length  \\\n",
       "3132                          6.67             14.0      1369.0   \n",
       "3104                          6.00             18.0       847.0   \n",
       "3103                          6.62             14.0       828.0   \n",
       "3117                         10.60             11.0       507.0   \n",
       "3102                          5.95             37.0      1832.0   \n",
       "\n",
       "      flesch_kincaid_grade_level  flesch_reading_ease  grade  gunning_fog  \\\n",
       "3132                        15.9                60.15    3.0        17.95   \n",
       "3104                         4.1                90.80    3.0         6.19   \n",
       "3103                        11.6                71.41    3.0        14.32   \n",
       "3117                        40.7                -4.31    3.0        44.68   \n",
       "3102                         4.3                90.29    3.0         7.22   \n",
       "\n",
       "      linsear_write_formula  quote_count  smog_index  \n",
       "3132                  25.00          6.0         9.3  \n",
       "3104                  10.40          0.0         6.4  \n",
       "3103                  13.25          1.0         8.2  \n",
       "3117                  54.00          0.0         0.0  \n",
       "3102                  10.80          0.0         8.0  "
      ]
     },
     "execution_count": 5,
     "metadata": {},
     "output_type": "execute_result"
    }
   ],
   "source": [
    "df.head()"
   ]
  },
  {
   "cell_type": "code",
   "execution_count": 6,
   "metadata": {},
   "outputs": [
    {
     "data": {
      "text/plain": [
       "automated_readability_index     float64\n",
       "coleman_liau_index              float64\n",
       "consolidated_score              float64\n",
       "dale_chall_readability score    float64\n",
       "difficult_words                 float64\n",
       "doc_length                      float64\n",
       "flesch_kincaid_grade_level      float64\n",
       "flesch_reading_ease             float64\n",
       "grade                           float64\n",
       "gunning_fog                     float64\n",
       "linsear_write_formula           float64\n",
       "quote_count                     float64\n",
       "smog_index                      float64\n",
       "dtype: object"
      ]
     },
     "execution_count": 6,
     "metadata": {},
     "output_type": "execute_result"
    }
   ],
   "source": [
    "df.dtypes"
   ]
  },
  {
   "cell_type": "code",
   "execution_count": 12,
   "metadata": {},
   "outputs": [],
   "source": [
    "#df = df.rename(columns={\"index\":\"story_id\"})\n"
   ]
  },
  {
   "cell_type": "code",
   "execution_count": 115,
   "metadata": {},
   "outputs": [],
   "source": [
    "#df.dtypes"
   ]
  },
  {
   "cell_type": "code",
   "execution_count": 7,
   "metadata": {},
   "outputs": [],
   "source": [
    "scaler = StandardScaler()"
   ]
  },
  {
   "cell_type": "code",
   "execution_count": null,
   "metadata": {},
   "outputs": [],
   "source": [
    "#target = 'story_id'\n",
    "\n",
    "#X = df.drop(columns = [target])\n",
    "#y = df[target]"
   ]
  },
  {
   "cell_type": "code",
   "execution_count": 28,
   "metadata": {},
   "outputs": [],
   "source": [
    "X = df[['doc_length','quote_count','difficult_words','grade']]"
   ]
  },
  {
   "cell_type": "code",
   "execution_count": 29,
   "metadata": {},
   "outputs": [],
   "source": [
    "norm_X = scaler.fit_transform(X)\n",
    "#norm_X"
   ]
  },
  {
   "cell_type": "markdown",
   "metadata": {},
   "source": [
    "### for K Means clustering"
   ]
  },
  {
   "cell_type": "code",
   "execution_count": 33,
   "metadata": {},
   "outputs": [],
   "source": [
    "model = KMeans(n_clusters = 6)\n",
    "labels = model.fit_predict(norm_X)"
   ]
  },
  {
   "cell_type": "code",
   "execution_count": 34,
   "metadata": {},
   "outputs": [],
   "source": [
    "df['grp'] = labels"
   ]
  },
  {
   "cell_type": "code",
   "execution_count": 35,
   "metadata": {},
   "outputs": [
    {
     "data": {
      "text/plain": [
       "0    53\n",
       "2    51\n",
       "5    25\n",
       "4    23\n",
       "1    12\n",
       "3     3\n",
       "Name: grp, dtype: int64"
      ]
     },
     "execution_count": 35,
     "metadata": {},
     "output_type": "execute_result"
    }
   ],
   "source": [
    "df['grp'].value_counts()"
   ]
  },
  {
   "cell_type": "markdown",
   "metadata": {},
   "source": [
    "### For agglomarative clustering"
   ]
  },
  {
   "cell_type": "code",
   "execution_count": 36,
   "metadata": {},
   "outputs": [
    {
     "data": {
      "image/png": "[encoded data removed]",
      "text/plain": [
       "<Figure size 432x288 with 1 Axes>"
      ]
     },
     "metadata": {
      "needs_background": "light"
     },
     "output_type": "display_data"
    }
   ],
   "source": [
    "dendrogram = sch.dendrogram(sch.linkage(norm_X, method='ward'))"
   ]
  },
  {
   "cell_type": "code",
   "execution_count": 49,
   "metadata": {},
   "outputs": [],
   "source": [
    "model = AgglomerativeClustering(n_clusters=9, affinity='euclidean', linkage='ward')\n",
    "model.fit(norm_X)\n",
    "labels = model.labels_"
   ]
  },
  {
   "cell_type": "code",
   "execution_count": 50,
   "metadata": {},
   "outputs": [],
   "source": [
    "df['grp_hier'] = labels"
   ]
  },
  {
   "cell_type": "code",
   "execution_count": 51,
   "metadata": {},
   "outputs": [
    {
     "data": {
      "text/plain": [
       "2    44\n",
       "1    32\n",
       "7    26\n",
       "6    25\n",
       "8    11\n",
       "4    10\n",
       "5     8\n",
       "3     7\n",
       "0     4\n",
       "Name: grp_hier, dtype: int64"
      ]
     },
     "execution_count": 51,
     "metadata": {},
     "output_type": "execute_result"
    }
   ],
   "source": [
    "df['grp_hier'].value_counts()"
   ]
  },
  {
   "cell_type": "code",
   "execution_count": 52,
   "metadata": {},
   "outputs": [],
   "source": [
    "grp = df.groupby('grp_hier')"
   ]
  },
  {
   "cell_type": "code",
   "execution_count": 53,
   "metadata": {},
   "outputs": [
    {
     "name": "stdout",
     "output_type": "stream",
     "text": [
      "{0: Int64Index([5254, 5213, 5235, 5234], dtype='int64'), 1: Int64Index([5209, 5207, 5255, 5239, 5230, 5208, 5249, 5203, 5204, 5257, 5261,\n",
      "            5259, 5233, 5258, 5256, 5218, 5244, 5243, 5221, 5217, 5115, 5123,\n",
      "            5114, 5109, 5101, 5111, 5116, 5120, 5121, 5103, 5104, 5105],\n",
      "           dtype='int64'), 2: Int64Index([3132, 3104, 3103, 3129, 3116, 3111, 3118, 3128, 3109, 3107, 3108,\n",
      "            3112, 3123, 3124, 3122, 3114, 3113, 3245, 3216, 3211, 3218, 3220,\n",
      "            3243, 3244, 3221, 3226, 3219, 3210, 3217, 3232, 3204, 3203, 3234,\n",
      "            3215, 3223, 3224, 3248, 3241, 3246, 3247, 3239, 3201, 3208, 3237],\n",
      "           dtype='int64'), 3: Int64Index([5262, 5247, 5219, 5107, 5129, 5118, 5117], dtype='int64'), 4: Int64Index([5236, 5252, 5223, 5242, 5245, 5220, 5124, 5113, 5131, 5130], dtype='int64'), 5: Int64Index([3102, 3101, 3130, 3115, 3212, 3213, 3209, 3230], dtype='int64'), 6: Int64Index([5238, 5263, 5264, 5237, 5246, 5225, 5214, 5240, 5232, 5250, 5202,\n",
      "            5260, 5251, 5229, 5216, 5228, 5210, 5112, 5122, 5125, 5108, 5126,\n",
      "            5110, 5132, 5102],\n",
      "           dtype='int64'), 7: Int64Index([3117, 3105, 3127, 3120, 3121, 3119, 3126, 3110, 3131, 3106, 3125,\n",
      "            3229, 3227, 3228, 3235, 3202, 3205, 3225, 3222, 3214, 3240, 3231,\n",
      "            3236, 3238, 3207, 3206],\n",
      "           dtype='int64'), 8: Int64Index([5253, 5206, 5215, 5224, 5248, 5241, 5222, 5205, 5227, 5106, 5119], dtype='int64')}\n"
     ]
    }
   ],
   "source": [
    "print(grp.groups)"
   ]
  },
  {
   "cell_type": "code",
   "execution_count": 55,
   "metadata": {},
   "outputs": [],
   "source": [
    "id_list = [3132, 3104, 3103, 3129, 3116, 3111, 3118, 3128, 3109, 3107, 3108,\n",
    "            3112, 3123, 3124, 3122, 3114, 3113, 3245, 3216, 3211, 3218, 3220,\n",
    "            3243, 3244, 3221, 3226, 3219, 3210, 3217, 3232, 3204, 3203, 3234,\n",
    "            3215, 3223, 3224, 3248, 3241, 3246, 3247, 3239, 3201, 3208, 3237] "
   ]
  },
  {
   "cell_type": "code",
   "execution_count": null,
   "metadata": {},
   "outputs": [],
   "source": []
  },
  {
   "cell_type": "code",
   "execution_count": 59,
   "metadata": {},
   "outputs": [
    {
     "name": "stdout",
     "output_type": "stream",
     "text": [
      "[3132, 3104, 3103, 3129, 3116, 3111, 3118, 3128, 3109, 3107, 3108, 3112, 3123, 3124, 3122, 3114, 3113, 3245, 3216, 3211, 3218, 3220, 3243, 3244, 3221, 3226, 3219, 3210, 3217, 3232, 3204, 3203, 3234, 3215, 3223, 3224, 3248, 3241, 3246, 3247, 3239, 3201, 3208, 3237]\n"
     ]
    }
   ],
   "source": [
    "print(id_list)"
   ]
  },
  {
   "cell_type": "code",
   "execution_count": 57,
   "metadata": {},
   "outputs": [
    {
     "name": "stdout",
     "output_type": "stream",
     "text": [
      "3132\n",
      "3104\n",
      "3103\n",
      "3129\n",
      "3116\n",
      "3111\n",
      "3118\n",
      "3128\n",
      "3109\n",
      "3107\n",
      "3108\n",
      "3112\n",
      "3123\n",
      "3124\n",
      "3122\n",
      "3114\n",
      "3113\n",
      "3245\n",
      "3216\n",
      "3211\n",
      "3218\n",
      "3220\n",
      "3243\n",
      "3244\n",
      "3221\n",
      "3226\n",
      "3219\n",
      "3210\n",
      "3217\n",
      "3232\n",
      "3204\n",
      "3203\n",
      "3234\n",
      "3215\n",
      "3223\n",
      "3224\n",
      "3248\n",
      "3241\n",
      "3246\n",
      "3247\n",
      "3239\n",
      "3201\n",
      "3208\n",
      "3237\n"
     ]
    }
   ],
   "source": [
    "print(*id_list, sep = \"\\n\")"
   ]
  },
  {
   "cell_type": "code",
   "execution_count": null,
   "metadata": {},
   "outputs": [],
   "source": []
  },
  {
   "cell_type": "code",
   "execution_count": null,
   "metadata": {},
   "outputs": [],
   "source": []
  }
 ],
 "metadata": {
  "kernelspec": {
   "display_name": "Python 3",
   "language": "python",
   "name": "python3"
  },
  "language_info": {
   "codemirror_mode": {
    "name": "ipython",
    "version": 3
   },
   "file_extension": ".py",
   "mimetype": "text/x-python",
   "name": "python",
   "nbconvert_exporter": "python",
   "pygments_lexer": "ipython3",
   "version": "3.7.1"
  }
 },
 "nbformat": 4,
 "nbformat_minor": 4
}
