{
 "cells": [
  {
   "cell_type": "code",
   "execution_count": 3,
   "metadata": {
    "colab": {},
    "colab_type": "code",
    "id": "BsSWMgbeTDI5"
   },
   "outputs": [],
   "source": [
    "import pandas as pd"
   ]
  },
  {
   "cell_type": "code",
   "execution_count": 2,
   "metadata": {
    "colab": {
     "base_uri": "https://localhost:8080/",
     "height": 206
    },
    "colab_type": "code",
    "id": "Mu3z_H3WTDJg",
    "outputId": "970cd463-baf5-40ae-c597-21e7b80057f1"
   },
   "outputs": [
    {
     "data": {
      "text/html": [
       "<div>\n",
       "<style scoped>\n",
       "    .dataframe tbody tr th:only-of-type {\n",
       "        vertical-align: middle;\n",
       "    }\n",
       "\n",
       "    .dataframe tbody tr th {\n",
       "        vertical-align: top;\n",
       "    }\n",
       "\n",
       "    .dataframe thead th {\n",
       "        text-align: right;\n",
       "    }\n",
       "</style>\n",
       "<table border=\"1\" class=\"dataframe\">\n",
       "  <thead>\n",
       "    <tr style=\"text-align: right;\">\n",
       "      <th></th>\n",
       "      <th>human</th>\n",
       "      <th>machine</th>\n",
       "      <th>storyno</th>\n",
       "    </tr>\n",
       "  </thead>\n",
       "  <tbody>\n",
       "    <tr>\n",
       "      <th>0</th>\n",
       "      <td>3132                                Page 1 Onc...</td>\n",
       "      <td>Page. I 3132 Once there was a little cheatah a...</td>\n",
       "      <td>3132</td>\n",
       "    </tr>\n",
       "    <tr>\n",
       "      <th>1</th>\n",
       "      <td>The pony that didn't know.  Once there was a p...</td>\n",
       "      <td>- 3106 The pony that didn't know. Once there w...</td>\n",
       "      <td>3104</td>\n",
       "    </tr>\n",
       "    <tr>\n",
       "      <th>2</th>\n",
       "      <td>Rainbow the Unica Once there was a unicorn nam...</td>\n",
       "      <td>3103 Rainkai the Unica Once there was a unicon...</td>\n",
       "      <td>3103</td>\n",
       "    </tr>\n",
       "    <tr>\n",
       "      <th>3</th>\n",
       "      <td>3117    gumdrop land    1     gumdrop land is ...</td>\n",
       "      <td>3117 gum drop Tood (1 - qum drop land is a pla...</td>\n",
       "      <td>3117</td>\n",
       "    </tr>\n",
       "    <tr>\n",
       "      <th>4</th>\n",
       "      <td>The secret fifth grade I am Amelia I am starti...</td>\n",
       "      <td>3102 The secret fifth grade I am Ameilia I am ...</td>\n",
       "      <td>3102</td>\n",
       "    </tr>\n",
       "  </tbody>\n",
       "</table>\n",
       "</div>"
      ],
      "text/plain": [
       "                                               human  \\\n",
       "0  3132                                Page 1 Onc...   \n",
       "1  The pony that didn't know.  Once there was a p...   \n",
       "2  Rainbow the Unica Once there was a unicorn nam...   \n",
       "3  3117    gumdrop land    1     gumdrop land is ...   \n",
       "4  The secret fifth grade I am Amelia I am starti...   \n",
       "\n",
       "                                             machine  storyno  \n",
       "0  Page. I 3132 Once there was a little cheatah a...     3132  \n",
       "1  - 3106 The pony that didn't know. Once there w...     3104  \n",
       "2  3103 Rainkai the Unica Once there was a unicon...     3103  \n",
       "3  3117 gum drop Tood (1 - qum drop land is a pla...     3117  \n",
       "4  3102 The secret fifth grade I am Ameilia I am ...     3102  "
      ]
     },
     "execution_count": 2,
     "metadata": {},
     "output_type": "execute_result"
    }
   ],
   "source": [
    "# load data\n",
    "\n",
    "df = pd.read_csv('./transcripts2.csv', index_col=[0])\n",
    "\n",
    "df.head()"
   ]
  },
  {
   "cell_type": "code",
   "execution_count": 3,
   "metadata": {
    "colab": {
     "base_uri": "https://localhost:8080/",
     "height": 206
    },
    "colab_type": "code",
    "id": "zIiMQu8swauh",
    "outputId": "03962562-aae3-4a62-a69c-0211137b0d78"
   },
   "outputs": [
    {
     "data": {
      "text/html": [
       "<div>\n",
       "<style scoped>\n",
       "    .dataframe tbody tr th:only-of-type {\n",
       "        vertical-align: middle;\n",
       "    }\n",
       "\n",
       "    .dataframe tbody tr th {\n",
       "        vertical-align: top;\n",
       "    }\n",
       "\n",
       "    .dataframe thead th {\n",
       "        text-align: right;\n",
       "    }\n",
       "</style>\n",
       "<table border=\"1\" class=\"dataframe\">\n",
       "  <thead>\n",
       "    <tr style=\"text-align: right;\">\n",
       "      <th></th>\n",
       "      <th>human</th>\n",
       "      <th>machine</th>\n",
       "      <th>storyno</th>\n",
       "    </tr>\n",
       "  </thead>\n",
       "  <tbody>\n",
       "    <tr>\n",
       "      <th>162</th>\n",
       "      <td>5132  One day, in the middle of   August, ther...</td>\n",
       "      <td>5132 - - One day, in the middle of August, the...</td>\n",
       "      <td>5132</td>\n",
       "    </tr>\n",
       "    <tr>\n",
       "      <th>163</th>\n",
       "      <td>5103 =&gt; \"Hey[]\" exclaimed Tommy, \"thats my    ...</td>\n",
       "      <td>5103 Indent Heytm exclaimed Tommy,\" thats my p...</td>\n",
       "      <td>5103</td>\n",
       "    </tr>\n",
       "    <tr>\n",
       "      <th>164</th>\n",
       "      <td>5104 One day a kid named  Steven was at school...</td>\n",
       "      <td>-5104 One day a kid named Steven was at school...</td>\n",
       "      <td>5104</td>\n",
       "    </tr>\n",
       "    <tr>\n",
       "      <th>165</th>\n",
       "      <td>5105  []The wind was howeling against my windo...</td>\n",
       "      <td>-510s window. The rolling her eyes, The wind w...</td>\n",
       "      <td>5105</td>\n",
       "    </tr>\n",
       "    <tr>\n",
       "      <th>166</th>\n",
       "      <td>5102  There I was flying over a cliff.  My nam...</td>\n",
       "      <td>cliffe and Į am 5102 There I was flying over e...</td>\n",
       "      <td>5102</td>\n",
       "    </tr>\n",
       "  </tbody>\n",
       "</table>\n",
       "</div>"
      ],
      "text/plain": [
       "                                                 human  \\\n",
       "162  5132  One day, in the middle of   August, ther...   \n",
       "163  5103 => \"Hey[]\" exclaimed Tommy, \"thats my    ...   \n",
       "164  5104 One day a kid named  Steven was at school...   \n",
       "165  5105  []The wind was howeling against my windo...   \n",
       "166  5102  There I was flying over a cliff.  My nam...   \n",
       "\n",
       "                                               machine  storyno  \n",
       "162  5132 - - One day, in the middle of August, the...     5132  \n",
       "163  5103 Indent Heytm exclaimed Tommy,\" thats my p...     5103  \n",
       "164  -5104 One day a kid named Steven was at school...     5104  \n",
       "165  -510s window. The rolling her eyes, The wind w...     5105  \n",
       "166  cliffe and Į am 5102 There I was flying over e...     5102  "
      ]
     },
     "execution_count": 3,
     "metadata": {},
     "output_type": "execute_result"
    }
   ],
   "source": [
    "df.tail()"
   ]
  },
  {
   "cell_type": "markdown",
   "metadata": {
    "colab_type": "text",
    "id": "WURQK-U7TDJ3"
   },
   "source": [
    "## Error metric"
   ]
  },
  {
   "cell_type": "code",
   "execution_count": 3,
   "metadata": {
    "colab": {
     "base_uri": "https://localhost:8080/",
     "height": 266
    },
    "colab_type": "code",
    "id": "ghQB4FPBTDJ8",
    "outputId": "47be761b-9592-47a6-f09c-44ac87082d5f"
   },
   "outputs": [
    {
     "name": "stdout",
     "output_type": "stream",
     "text": [
      "Collecting pylcs\n",
      "  Downloading https://files.pythonhosted.org/packages/b2/3d/1bcd4daca7fb70311aa46507b74bca8f7ec414ee2d0f8a4d5e0ea2084163/pylcs-0.0.6.tar.gz\n",
      "Collecting pybind11>=2.2\n",
      "\u001b[?25l  Downloading https://files.pythonhosted.org/packages/4b/4d/ae1c4d8e8b139afa9682054dd42df3b0e3b5c1731287933021b9fd7e9cc4/pybind11-2.4.3-py2.py3-none-any.whl (150kB)\n",
      "\u001b[K     |████████████████████████████████| 153kB 4.8MB/s \n",
      "\u001b[?25hBuilding wheels for collected packages: pylcs\n",
      "  Building wheel for pylcs (setup.py) ... \u001b[?25lerror\n",
      "\u001b[31m  ERROR: Failed building wheel for pylcs\u001b[0m\n",
      "\u001b[?25h  Running setup.py clean for pylcs\n",
      "Failed to build pylcs\n",
      "Installing collected packages: pybind11, pylcs\n",
      "    Running setup.py install for pylcs ... \u001b[?25l\u001b[?25hdone\n",
      "Successfully installed pybind11-2.4.3 pylcs-0.0.6\n"
     ]
    }
   ],
   "source": [
    "# !pip install pylcs  # for Colab\n",
    "import pylcs"
   ]
  },
  {
   "cell_type": "code",
   "execution_count": null,
   "metadata": {
    "colab": {},
    "colab_type": "code",
    "id": "e27qcvE0cURR"
   },
   "outputs": [],
   "source": [
    "def calc_error(t1, t2):\n",
    "    \"\"\"Takes in two different transcriptions of a story, returns the diff score\"\"\"\n",
    "\n",
    "    # cut out the spaces in both -- the human transcripts use spaces visually\n",
    "    # this may also eliminate real space errors but I think it's better\n",
    "    t1 = t1.replace(\" \", \"\")\n",
    "    t2 = t2.replace(\" \", \"\")\n",
    "\n",
    "    # transcripts may differ in exact length\n",
    "    avg_length = (len(t1) + len(t2)) / 2\n",
    "\n",
    "    # result: average number of single-character errors per character\n",
    "    return pylcs.levenshtein_distance(t1, t2) / avg_length"
   ]
  },
  {
   "cell_type": "code",
   "execution_count": 41,
   "metadata": {
    "colab": {
     "base_uri": "https://localhost:8080/",
     "height": 275
    },
    "colab_type": "code",
    "id": "na52xivdxHi8",
    "outputId": "f36361c4-3276-4818-b3b2-c8c9467f8b5c"
   },
   "outputs": [
    {
     "data": {
      "text/html": [
       "<div>\n",
       "<style scoped>\n",
       "    .dataframe tbody tr th:only-of-type {\n",
       "        vertical-align: middle;\n",
       "    }\n",
       "\n",
       "    .dataframe tbody tr th {\n",
       "        vertical-align: top;\n",
       "    }\n",
       "\n",
       "    .dataframe thead th {\n",
       "        text-align: right;\n",
       "    }\n",
       "</style>\n",
       "<table border=\"1\" class=\"dataframe\">\n",
       "  <thead>\n",
       "    <tr style=\"text-align: right;\">\n",
       "      <th></th>\n",
       "      <th>human</th>\n",
       "      <th>machine</th>\n",
       "      <th>storyno</th>\n",
       "      <th>error</th>\n",
       "    </tr>\n",
       "  </thead>\n",
       "  <tbody>\n",
       "    <tr>\n",
       "      <th>0</th>\n",
       "      <td>3132                                Page 1 Onc...</td>\n",
       "      <td>Page. I 3132 Once there was a little cheatah a...</td>\n",
       "      <td>3132</td>\n",
       "      <td>0.0</td>\n",
       "    </tr>\n",
       "    <tr>\n",
       "      <th>1</th>\n",
       "      <td>The pony that didn't know.  Once there was a p...</td>\n",
       "      <td>- 3106 The pony that didn't know. Once there w...</td>\n",
       "      <td>3104</td>\n",
       "      <td>0.0</td>\n",
       "    </tr>\n",
       "    <tr>\n",
       "      <th>2</th>\n",
       "      <td>Rainbow the Unica Once there was a unicorn nam...</td>\n",
       "      <td>3103 Rainkai the Unica Once there was a unicon...</td>\n",
       "      <td>3103</td>\n",
       "      <td>0.0</td>\n",
       "    </tr>\n",
       "    <tr>\n",
       "      <th>3</th>\n",
       "      <td>3117    gumdrop land    1     gumdrop land is ...</td>\n",
       "      <td>3117 gum drop Tood (1 - qum drop land is a pla...</td>\n",
       "      <td>3117</td>\n",
       "      <td>0.0</td>\n",
       "    </tr>\n",
       "    <tr>\n",
       "      <th>4</th>\n",
       "      <td>The secret fifth grade I am Amelia I am starti...</td>\n",
       "      <td>3102 The secret fifth grade I am Ameilia I am ...</td>\n",
       "      <td>3102</td>\n",
       "      <td>0.0</td>\n",
       "    </tr>\n",
       "  </tbody>\n",
       "</table>\n",
       "</div>"
      ],
      "text/plain": [
       "                                               human  ... error\n",
       "0  3132                                Page 1 Onc...  ...   0.0\n",
       "1  The pony that didn't know.  Once there was a p...  ...   0.0\n",
       "2  Rainbow the Unica Once there was a unicorn nam...  ...   0.0\n",
       "3  3117    gumdrop land    1     gumdrop land is ...  ...   0.0\n",
       "4  The secret fifth grade I am Amelia I am starti...  ...   0.0\n",
       "\n",
       "[5 rows x 4 columns]"
      ]
     },
     "execution_count": 41,
     "metadata": {
      "tags": []
     },
     "output_type": "execute_result"
    }
   ],
   "source": [
    "df['error'] = 0.0"
   ]
  },
  {
   "cell_type": "code",
   "execution_count": 66,
   "metadata": {
    "colab": {
     "base_uri": "https://localhost:8080/",
     "height": 519
    },
    "colab_type": "code",
    "id": "9tdt5_9ffPFO",
    "outputId": "e472f8ac-a54a-4e2d-9e8d-283521612dcf"
   },
   "outputs": [
    {
     "data": {
      "text/html": [
       "<div>\n",
       "<style scoped>\n",
       "    .dataframe tbody tr th:only-of-type {\n",
       "        vertical-align: middle;\n",
       "    }\n",
       "\n",
       "    .dataframe tbody tr th {\n",
       "        vertical-align: top;\n",
       "    }\n",
       "\n",
       "    .dataframe thead th {\n",
       "        text-align: right;\n",
       "    }\n",
       "</style>\n",
       "<table border=\"1\" class=\"dataframe\">\n",
       "  <thead>\n",
       "    <tr style=\"text-align: right;\">\n",
       "      <th></th>\n",
       "      <th>human</th>\n",
       "      <th>machine</th>\n",
       "      <th>storyno</th>\n",
       "      <th>error</th>\n",
       "    </tr>\n",
       "  </thead>\n",
       "  <tbody>\n",
       "    <tr>\n",
       "      <th>0</th>\n",
       "      <td>3132                                Page 1 Onc...</td>\n",
       "      <td>Page. I 3132 Once there was a little cheatah a...</td>\n",
       "      <td>3132</td>\n",
       "      <td>0.054201</td>\n",
       "    </tr>\n",
       "    <tr>\n",
       "      <th>1</th>\n",
       "      <td>The pony that didn't know.  Once there was a p...</td>\n",
       "      <td>- 3106 The pony that didn't know. Once there w...</td>\n",
       "      <td>3104</td>\n",
       "      <td>0.385224</td>\n",
       "    </tr>\n",
       "    <tr>\n",
       "      <th>2</th>\n",
       "      <td>Rainbow the Unica Once there was a unicorn nam...</td>\n",
       "      <td>3103 Rainkai the Unica Once there was a unicon...</td>\n",
       "      <td>3103</td>\n",
       "      <td>0.158262</td>\n",
       "    </tr>\n",
       "    <tr>\n",
       "      <th>3</th>\n",
       "      <td>3117    gumdrop land    1     gumdrop land is ...</td>\n",
       "      <td>3117 gum drop Tood (1 - qum drop land is a pla...</td>\n",
       "      <td>3117</td>\n",
       "      <td>0.156410</td>\n",
       "    </tr>\n",
       "    <tr>\n",
       "      <th>4</th>\n",
       "      <td>The secret fifth grade I am Amelia I am starti...</td>\n",
       "      <td>3102 The secret fifth grade I am Ameilia I am ...</td>\n",
       "      <td>3102</td>\n",
       "      <td>0.053980</td>\n",
       "    </tr>\n",
       "    <tr>\n",
       "      <th>5</th>\n",
       "      <td>My alarm clock went off. I got out of  bed, pu...</td>\n",
       "      <td>3105 My alarm clock went off. I got out of bed...</td>\n",
       "      <td>3105</td>\n",
       "      <td>0.334749</td>\n",
       "    </tr>\n",
       "    <tr>\n",
       "      <th>6</th>\n",
       "      <td>3129  \"found it\" said Katrina, a villan who ro...</td>\n",
       "      <td>3129 found it\" said Katrina, a villan who roam...</td>\n",
       "      <td>3129</td>\n",
       "      <td>0.062708</td>\n",
       "    </tr>\n",
       "    <tr>\n",
       "      <th>7</th>\n",
       "      <td>3116      1 So once there was  a turtle name C...</td>\n",
       "      <td>3116 So once there was a turtle named Cacti. H...</td>\n",
       "      <td>3116</td>\n",
       "      <td>0.063376</td>\n",
       "    </tr>\n",
       "    <tr>\n",
       "      <th>8</th>\n",
       "      <td>Lia Hi my name is Lia Clark. My twin sister's ...</td>\n",
       "      <td>3111 a Hi my name is lia Clark, My twin sister...</td>\n",
       "      <td>3111</td>\n",
       "      <td>0.035714</td>\n",
       "    </tr>\n",
       "    <tr>\n",
       "      <th>9</th>\n",
       "      <td>3118                                       1 \"...</td>\n",
       "      <td>- 3118 This is my jungle. I had it first and y...</td>\n",
       "      <td>3118</td>\n",
       "      <td>0.023464</td>\n",
       "    </tr>\n",
       "  </tbody>\n",
       "</table>\n",
       "</div>"
      ],
      "text/plain": [
       "                                               human  ...     error\n",
       "0  3132                                Page 1 Onc...  ...  0.054201\n",
       "1  The pony that didn't know.  Once there was a p...  ...  0.385224\n",
       "2  Rainbow the Unica Once there was a unicorn nam...  ...  0.158262\n",
       "3  3117    gumdrop land    1     gumdrop land is ...  ...  0.156410\n",
       "4  The secret fifth grade I am Amelia I am starti...  ...  0.053980\n",
       "5  My alarm clock went off. I got out of  bed, pu...  ...  0.334749\n",
       "6  3129  \"found it\" said Katrina, a villan who ro...  ...  0.062708\n",
       "7  3116      1 So once there was  a turtle name C...  ...  0.063376\n",
       "8  Lia Hi my name is Lia Clark. My twin sister's ...  ...  0.035714\n",
       "9  3118                                       1 \"...  ...  0.023464\n",
       "\n",
       "[10 rows x 4 columns]"
      ]
     },
     "execution_count": 66,
     "metadata": {
      "tags": []
     },
     "output_type": "execute_result"
    }
   ],
   "source": [
    "for i in range(df.shape[0]):\n",
    "    df.loc[i, 'error'] = calc_error(df.loc[i, 'human'], df.loc[i, 'machine'])\n",
    "\n",
    "df.head(10)"
   ]
  },
  {
   "cell_type": "code",
   "execution_count": 67,
   "metadata": {
    "colab": {
     "base_uri": "https://localhost:8080/",
     "height": 176
    },
    "colab_type": "code",
    "id": "EzMCPiIgjq6k",
    "outputId": "94151eb3-4d8a-43ae-fa90-4a011bfce318"
   },
   "outputs": [
    {
     "data": {
      "text/plain": [
       "count    167.000000\n",
       "mean       0.146123\n",
       "std        0.172315\n",
       "min        0.016505\n",
       "25%        0.057773\n",
       "50%        0.098283\n",
       "75%        0.155547\n",
       "max        1.429189\n",
       "Name: error, dtype: float64"
      ]
     },
     "execution_count": 67,
     "metadata": {
      "tags": []
     },
     "output_type": "execute_result"
    }
   ],
   "source": [
    "df['error'].describe()"
   ]
  },
  {
   "cell_type": "code",
   "execution_count": 85,
   "metadata": {
    "colab": {
     "base_uri": "https://localhost:8080/",
     "height": 283
    },
    "colab_type": "code",
    "id": "B_zYTWIcOUaX",
    "outputId": "d13468ad-9d2d-4603-b76b-50fd1342e7bb"
   },
   "outputs": [
    {
     "data": {
      "text/plain": [
       "<matplotlib.axes._subplots.AxesSubplot at 0x7f016e0cfe10>"
      ]
     },
     "execution_count": 85,
     "metadata": {
      "tags": []
     },
     "output_type": "execute_result"
    },
    {
     "data": {
      "image/png": "[encoded data removed]",
      "text/plain": [
       "<Figure size 432x288 with 1 Axes>"
      ]
     },
     "metadata": {
      "tags": []
     },
     "output_type": "display_data"
    }
   ],
   "source": [
    "df['error'].hist()"
   ]
  },
  {
   "cell_type": "code",
   "execution_count": 83,
   "metadata": {
    "colab": {
     "base_uri": "https://localhost:8080/",
     "height": 519
    },
    "colab_type": "code",
    "id": "S4wWsoGp7GK3",
    "outputId": "c68663d9-d33b-4193-8456-4cb315ae9a45"
   },
   "outputs": [
    {
     "data": {
      "text/html": [
       "<div>\n",
       "<style scoped>\n",
       "    .dataframe tbody tr th:only-of-type {\n",
       "        vertical-align: middle;\n",
       "    }\n",
       "\n",
       "    .dataframe tbody tr th {\n",
       "        vertical-align: top;\n",
       "    }\n",
       "\n",
       "    .dataframe thead th {\n",
       "        text-align: right;\n",
       "    }\n",
       "</style>\n",
       "<table border=\"1\" class=\"dataframe\">\n",
       "  <thead>\n",
       "    <tr style=\"text-align: right;\">\n",
       "      <th></th>\n",
       "      <th>human</th>\n",
       "      <th>machine</th>\n",
       "      <th>storyno</th>\n",
       "      <th>error</th>\n",
       "    </tr>\n",
       "  </thead>\n",
       "  <tbody>\n",
       "    <tr>\n",
       "      <th>141</th>\n",
       "      <td>5122               Bobby and Dug are best frie...</td>\n",
       "      <td>5122 - Remember the story of The Tortoise And ...</td>\n",
       "      <td>5122</td>\n",
       "      <td>0.413299</td>\n",
       "    </tr>\n",
       "    <tr>\n",
       "      <th>55</th>\n",
       "      <td>-3215      The Valcano eruption    The ground ...</td>\n",
       "      <td>- 3215 The Valcano eruption og 1 The ground wa...</td>\n",
       "      <td>3215</td>\n",
       "      <td>0.491499</td>\n",
       "    </tr>\n",
       "    <tr>\n",
       "      <th>86</th>\n",
       "      <td>Attack of the Drones   Part II                ...</td>\n",
       "      <td>Attack of the Drones Port II - 5264 A Planet W...</td>\n",
       "      <td>5264</td>\n",
       "      <td>0.512182</td>\n",
       "    </tr>\n",
       "    <tr>\n",
       "      <th>164</th>\n",
       "      <td>5104 One day a kid named  Steven was at school...</td>\n",
       "      <td>-5104 One day a kid named Steven was at school...</td>\n",
       "      <td>5104</td>\n",
       "      <td>0.532726</td>\n",
       "    </tr>\n",
       "    <tr>\n",
       "      <th>80</th>\n",
       "      <td>The Avocado Dillema        [] The two pandas P...</td>\n",
       "      <td>5262 - The Avocado Dillena The two ponedas Per...</td>\n",
       "      <td>5262</td>\n",
       "      <td>0.553708</td>\n",
       "    </tr>\n",
       "    <tr>\n",
       "      <th>27</th>\n",
       "      <td>3124                     Page 1  It was a quie...</td>\n",
       "      <td>3124 Page ] It was a quiet night in the librar...</td>\n",
       "      <td>3124</td>\n",
       "      <td>0.634308</td>\n",
       "    </tr>\n",
       "    <tr>\n",
       "      <th>64</th>\n",
       "      <td>-3213 \"Phew\" said Jack. \"That was narley\".   J...</td>\n",
       "      <td>- 3213 Phew said Jack, \" That was narley Jack ...</td>\n",
       "      <td>3213</td>\n",
       "      <td>0.712313</td>\n",
       "    </tr>\n",
       "    <tr>\n",
       "      <th>145</th>\n",
       "      <td>5109  \"Loser!\" Someone called after me.  I sig...</td>\n",
       "      <td>5109 Looking closer, I realized that the older...</td>\n",
       "      <td>5109</td>\n",
       "      <td>0.779459</td>\n",
       "    </tr>\n",
       "    <tr>\n",
       "      <th>69</th>\n",
       "      <td>-3236 Once there was an alien that  came down ...</td>\n",
       "      <td>- 3236 Once there was an alien that came down ...</td>\n",
       "      <td>3236</td>\n",
       "      <td>0.888889</td>\n",
       "    </tr>\n",
       "    <tr>\n",
       "      <th>66</th>\n",
       "      <td>-3240 Once their was a young girl  named Ellie...</td>\n",
       "      <td>- 3240 wolf named Sofe Hudding said Why where ...</td>\n",
       "      <td>3240</td>\n",
       "      <td>1.429189</td>\n",
       "    </tr>\n",
       "  </tbody>\n",
       "</table>\n",
       "</div>"
      ],
      "text/plain": [
       "                                                 human  ...     error\n",
       "141  5122               Bobby and Dug are best frie...  ...  0.413299\n",
       "55   -3215      The Valcano eruption    The ground ...  ...  0.491499\n",
       "86   Attack of the Drones   Part II                ...  ...  0.512182\n",
       "164  5104 One day a kid named  Steven was at school...  ...  0.532726\n",
       "80   The Avocado Dillema        [] The two pandas P...  ...  0.553708\n",
       "27   3124                     Page 1  It was a quie...  ...  0.634308\n",
       "64   -3213 \"Phew\" said Jack. \"That was narley\".   J...  ...  0.712313\n",
       "145  5109  \"Loser!\" Someone called after me.  I sig...  ...  0.779459\n",
       "69   -3236 Once there was an alien that  came down ...  ...  0.888889\n",
       "66   -3240 Once their was a young girl  named Ellie...  ...  1.429189\n",
       "\n",
       "[10 rows x 4 columns]"
      ]
     },
     "execution_count": 83,
     "metadata": {
      "tags": []
     },
     "output_type": "execute_result"
    }
   ],
   "source": [
    "df2 = df.copy()\n",
    "\n",
    "df2.sort_values('error').tail(10)"
   ]
  },
  {
   "cell_type": "markdown",
   "metadata": {
    "colab_type": "text",
    "id": "sdgJ2-jGO7Re"
   },
   "source": [
    "Individual investigation of the causes of the ten highest error scores:\n",
    "\n",
    "- human error (missing images in Graig's data): stories 3240, 5109, and 5262\n",
    "- the other kind of human error (transcript is missing content, but the images aren't): stories 3213 and 3215\n",
    "- story contains crossed-out portion (that Google tried to render and the human transcriber didn't): story 5122\n",
    "- exceptionally bad handwriting: stories 3236, 3124, and 5264\n",
    "- ??: story 5104"
   ]
  },
  {
   "cell_type": "markdown",
   "metadata": {
    "colab_type": "text",
    "id": "cUgx2Lx-O1Xi"
   },
   "source": [
    "## Quotation loss?"
   ]
  },
  {
   "cell_type": "code",
   "execution_count": 4,
   "metadata": {},
   "outputs": [
    {
     "data": {
      "text/html": [
       "<div>\n",
       "<style scoped>\n",
       "    .dataframe tbody tr th:only-of-type {\n",
       "        vertical-align: middle;\n",
       "    }\n",
       "\n",
       "    .dataframe tbody tr th {\n",
       "        vertical-align: top;\n",
       "    }\n",
       "\n",
       "    .dataframe thead th {\n",
       "        text-align: right;\n",
       "    }\n",
       "</style>\n",
       "<table border=\"1\" class=\"dataframe\">\n",
       "  <thead>\n",
       "    <tr style=\"text-align: right;\">\n",
       "      <th></th>\n",
       "      <th>human</th>\n",
       "      <th>machine</th>\n",
       "      <th>storyno</th>\n",
       "      <th>error</th>\n",
       "    </tr>\n",
       "  </thead>\n",
       "  <tbody>\n",
       "    <tr>\n",
       "      <th>0</th>\n",
       "      <td>3132                                Page 1 Onc...</td>\n",
       "      <td>Page. I 3132 Once there was a little cheatah a...</td>\n",
       "      <td>3132</td>\n",
       "      <td>0.054201</td>\n",
       "    </tr>\n",
       "    <tr>\n",
       "      <th>1</th>\n",
       "      <td>The pony that didn't know.  Once there was a p...</td>\n",
       "      <td>- 3106 The pony that didn't know. Once there w...</td>\n",
       "      <td>3104</td>\n",
       "      <td>0.385224</td>\n",
       "    </tr>\n",
       "    <tr>\n",
       "      <th>2</th>\n",
       "      <td>Rainbow the Unica Once there was a unicorn nam...</td>\n",
       "      <td>3103 Rainkai the Unica Once there was a unicon...</td>\n",
       "      <td>3103</td>\n",
       "      <td>0.158262</td>\n",
       "    </tr>\n",
       "    <tr>\n",
       "      <th>3</th>\n",
       "      <td>3117    gumdrop land    1     gumdrop land is ...</td>\n",
       "      <td>3117 gum drop Tood (1 - qum drop land is a pla...</td>\n",
       "      <td>3117</td>\n",
       "      <td>0.156410</td>\n",
       "    </tr>\n",
       "    <tr>\n",
       "      <th>4</th>\n",
       "      <td>The secret fifth grade I am Amelia I am starti...</td>\n",
       "      <td>3102 The secret fifth grade I am Ameilia I am ...</td>\n",
       "      <td>3102</td>\n",
       "      <td>0.053980</td>\n",
       "    </tr>\n",
       "  </tbody>\n",
       "</table>\n",
       "</div>"
      ],
      "text/plain": [
       "                                               human  \\\n",
       "0  3132                                Page 1 Onc...   \n",
       "1  The pony that didn't know.  Once there was a p...   \n",
       "2  Rainbow the Unica Once there was a unicorn nam...   \n",
       "3  3117    gumdrop land    1     gumdrop land is ...   \n",
       "4  The secret fifth grade I am Amelia I am starti...   \n",
       "\n",
       "                                             machine  storyno     error  \n",
       "0  Page. I 3132 Once there was a little cheatah a...     3132  0.054201  \n",
       "1  - 3106 The pony that didn't know. Once there w...     3104  0.385224  \n",
       "2  3103 Rainkai the Unica Once there was a unicon...     3103  0.158262  \n",
       "3  3117 gum drop Tood (1 - qum drop land is a pla...     3117  0.156410  \n",
       "4  3102 The secret fifth grade I am Ameilia I am ...     3102  0.053980  "
      ]
     },
     "execution_count": 4,
     "metadata": {},
     "output_type": "execute_result"
    }
   ],
   "source": [
    "# pylcs can have installation troubles\n",
    "# I used it in Colab and exported the output error score df\n",
    "\n",
    "# df = pd.read_csv('errortranscripts.csv', index_col=[0])\n",
    "\n",
    "df.head()"
   ]
  },
  {
   "cell_type": "code",
   "execution_count": 5,
   "metadata": {
    "colab": {},
    "colab_type": "code",
    "id": "bZQ2K1eDO3im"
   },
   "outputs": [],
   "source": [
    "# how many quotation marks in particular are lost to computer vision?\n",
    "\n",
    "def count_quotes(string):\n",
    "    return string.count('\"')"
   ]
  },
  {
   "cell_type": "code",
   "execution_count": 6,
   "metadata": {},
   "outputs": [
    {
     "data": {
      "text/html": [
       "<div>\n",
       "<style scoped>\n",
       "    .dataframe tbody tr th:only-of-type {\n",
       "        vertical-align: middle;\n",
       "    }\n",
       "\n",
       "    .dataframe tbody tr th {\n",
       "        vertical-align: top;\n",
       "    }\n",
       "\n",
       "    .dataframe thead th {\n",
       "        text-align: right;\n",
       "    }\n",
       "</style>\n",
       "<table border=\"1\" class=\"dataframe\">\n",
       "  <thead>\n",
       "    <tr style=\"text-align: right;\">\n",
       "      <th></th>\n",
       "      <th>human</th>\n",
       "      <th>machine</th>\n",
       "      <th>storyno</th>\n",
       "      <th>error</th>\n",
       "      <th>human_q</th>\n",
       "      <th>machine_q</th>\n",
       "    </tr>\n",
       "  </thead>\n",
       "  <tbody>\n",
       "    <tr>\n",
       "      <th>0</th>\n",
       "      <td>3132                                Page 1 Onc...</td>\n",
       "      <td>Page. I 3132 Once there was a little cheatah a...</td>\n",
       "      <td>3132</td>\n",
       "      <td>0.054201</td>\n",
       "      <td>14</td>\n",
       "      <td>6</td>\n",
       "    </tr>\n",
       "    <tr>\n",
       "      <th>1</th>\n",
       "      <td>The pony that didn't know.  Once there was a p...</td>\n",
       "      <td>- 3106 The pony that didn't know. Once there w...</td>\n",
       "      <td>3104</td>\n",
       "      <td>0.385224</td>\n",
       "      <td>6</td>\n",
       "      <td>0</td>\n",
       "    </tr>\n",
       "    <tr>\n",
       "      <th>2</th>\n",
       "      <td>Rainbow the Unica Once there was a unicorn nam...</td>\n",
       "      <td>3103 Rainkai the Unica Once there was a unicon...</td>\n",
       "      <td>3103</td>\n",
       "      <td>0.158262</td>\n",
       "      <td>2</td>\n",
       "      <td>1</td>\n",
       "    </tr>\n",
       "    <tr>\n",
       "      <th>3</th>\n",
       "      <td>3117    gumdrop land    1     gumdrop land is ...</td>\n",
       "      <td>3117 gum drop Tood (1 - qum drop land is a pla...</td>\n",
       "      <td>3117</td>\n",
       "      <td>0.156410</td>\n",
       "      <td>0</td>\n",
       "      <td>0</td>\n",
       "    </tr>\n",
       "    <tr>\n",
       "      <th>4</th>\n",
       "      <td>The secret fifth grade I am Amelia I am starti...</td>\n",
       "      <td>3102 The secret fifth grade I am Ameilia I am ...</td>\n",
       "      <td>3102</td>\n",
       "      <td>0.053980</td>\n",
       "      <td>0</td>\n",
       "      <td>0</td>\n",
       "    </tr>\n",
       "  </tbody>\n",
       "</table>\n",
       "</div>"
      ],
      "text/plain": [
       "                                               human  \\\n",
       "0  3132                                Page 1 Onc...   \n",
       "1  The pony that didn't know.  Once there was a p...   \n",
       "2  Rainbow the Unica Once there was a unicorn nam...   \n",
       "3  3117    gumdrop land    1     gumdrop land is ...   \n",
       "4  The secret fifth grade I am Amelia I am starti...   \n",
       "\n",
       "                                             machine  storyno     error  \\\n",
       "0  Page. I 3132 Once there was a little cheatah a...     3132  0.054201   \n",
       "1  - 3106 The pony that didn't know. Once there w...     3104  0.385224   \n",
       "2  3103 Rainkai the Unica Once there was a unicon...     3103  0.158262   \n",
       "3  3117 gum drop Tood (1 - qum drop land is a pla...     3117  0.156410   \n",
       "4  3102 The secret fifth grade I am Ameilia I am ...     3102  0.053980   \n",
       "\n",
       "   human_q  machine_q  \n",
       "0       14          6  \n",
       "1        6          0  \n",
       "2        2          1  \n",
       "3        0          0  \n",
       "4        0          0  "
      ]
     },
     "execution_count": 6,
     "metadata": {},
     "output_type": "execute_result"
    }
   ],
   "source": [
    "df['human_q'] = df['human'].apply(count_quotes)\n",
    "df['machine_q'] = df['machine'].apply(count_quotes)\n",
    "\n",
    "df.head()"
   ]
  },
  {
   "cell_type": "code",
   "execution_count": 8,
   "metadata": {},
   "outputs": [
    {
     "data": {
      "text/plain": [
       "count    167.000000\n",
       "mean      16.245509\n",
       "std       14.779694\n",
       "min        0.000000\n",
       "25%        6.000000\n",
       "50%       12.000000\n",
       "75%       20.000000\n",
       "max       84.000000\n",
       "Name: human_q, dtype: float64"
      ]
     },
     "execution_count": 8,
     "metadata": {},
     "output_type": "execute_result"
    }
   ],
   "source": [
    "df['human_q'].describe()"
   ]
  },
  {
   "cell_type": "code",
   "execution_count": 9,
   "metadata": {},
   "outputs": [
    {
     "data": {
      "text/plain": [
       "count    167.000000\n",
       "mean       8.718563\n",
       "std        9.843894\n",
       "min        0.000000\n",
       "25%        2.000000\n",
       "50%        6.000000\n",
       "75%       12.000000\n",
       "max       53.000000\n",
       "Name: machine_q, dtype: float64"
      ]
     },
     "execution_count": 9,
     "metadata": {},
     "output_type": "execute_result"
    }
   ],
   "source": [
    "df['machine_q'].describe()"
   ]
  },
  {
   "cell_type": "code",
   "execution_count": 10,
   "metadata": {},
   "outputs": [
    {
     "data": {
      "text/html": [
       "<div>\n",
       "<style scoped>\n",
       "    .dataframe tbody tr th:only-of-type {\n",
       "        vertical-align: middle;\n",
       "    }\n",
       "\n",
       "    .dataframe tbody tr th {\n",
       "        vertical-align: top;\n",
       "    }\n",
       "\n",
       "    .dataframe thead th {\n",
       "        text-align: right;\n",
       "    }\n",
       "</style>\n",
       "<table border=\"1\" class=\"dataframe\">\n",
       "  <thead>\n",
       "    <tr style=\"text-align: right;\">\n",
       "      <th></th>\n",
       "      <th>human_q</th>\n",
       "      <th>machine_q</th>\n",
       "    </tr>\n",
       "  </thead>\n",
       "  <tbody>\n",
       "    <tr>\n",
       "      <th>human_q</th>\n",
       "      <td>1.000000</td>\n",
       "      <td>0.858568</td>\n",
       "    </tr>\n",
       "    <tr>\n",
       "      <th>machine_q</th>\n",
       "      <td>0.858568</td>\n",
       "      <td>1.000000</td>\n",
       "    </tr>\n",
       "  </tbody>\n",
       "</table>\n",
       "</div>"
      ],
      "text/plain": [
       "            human_q  machine_q\n",
       "human_q    1.000000   0.858568\n",
       "machine_q  0.858568   1.000000"
      ]
     },
     "execution_count": 10,
     "metadata": {},
     "output_type": "execute_result"
    }
   ],
   "source": [
    "df[['human_q', 'machine_q']].corr()"
   ]
  },
  {
   "cell_type": "code",
   "execution_count": 12,
   "metadata": {},
   "outputs": [
    {
     "data": {
      "image/png": "[encoded data removed]",
      "text/plain": [
       "<Figure size 432x288 with 1 Axes>"
      ]
     },
     "metadata": {
      "needs_background": "light"
     },
     "output_type": "display_data"
    }
   ],
   "source": [
    "df.plot.scatter('human_q', 'machine_q');"
   ]
  },
  {
   "cell_type": "code",
   "execution_count": 14,
   "metadata": {},
   "outputs": [
    {
     "data": {
      "text/html": [
       "<div>\n",
       "<style scoped>\n",
       "    .dataframe tbody tr th:only-of-type {\n",
       "        vertical-align: middle;\n",
       "    }\n",
       "\n",
       "    .dataframe tbody tr th {\n",
       "        vertical-align: top;\n",
       "    }\n",
       "\n",
       "    .dataframe thead th {\n",
       "        text-align: right;\n",
       "    }\n",
       "</style>\n",
       "<table border=\"1\" class=\"dataframe\">\n",
       "  <thead>\n",
       "    <tr style=\"text-align: right;\">\n",
       "      <th></th>\n",
       "      <th>human</th>\n",
       "      <th>machine</th>\n",
       "      <th>storyno</th>\n",
       "      <th>error</th>\n",
       "      <th>human_q</th>\n",
       "      <th>machine_q</th>\n",
       "    </tr>\n",
       "  </thead>\n",
       "  <tbody>\n",
       "    <tr>\n",
       "      <th>47</th>\n",
       "      <td>-3235 I was walking home from school It was  a...</td>\n",
       "      <td>-3235 I was walking home from school It was Ia...</td>\n",
       "      <td>3235</td>\n",
       "      <td>0.163232</td>\n",
       "      <td>0</td>\n",
       "      <td>2</td>\n",
       "    </tr>\n",
       "    <tr>\n",
       "      <th>53</th>\n",
       "      <td>- 3234    Arania stepped outside and made sure...</td>\n",
       "      <td>- 3234 Arania stepped outside and made sure no...</td>\n",
       "      <td>3234</td>\n",
       "      <td>0.130264</td>\n",
       "      <td>0</td>\n",
       "      <td>1</td>\n",
       "    </tr>\n",
       "    <tr>\n",
       "      <th>55</th>\n",
       "      <td>-3215      The Valcano eruption    The ground ...</td>\n",
       "      <td>- 3215 The Valcano eruption og 1 The ground wa...</td>\n",
       "      <td>3215</td>\n",
       "      <td>0.491499</td>\n",
       "      <td>4</td>\n",
       "      <td>9</td>\n",
       "    </tr>\n",
       "    <tr>\n",
       "      <th>59</th>\n",
       "      <td>-3241  Once there was a girl named Sylvie.  He...</td>\n",
       "      <td>- 3241 Once there was a girl named Sylvie. her...</td>\n",
       "      <td>3241</td>\n",
       "      <td>0.046269</td>\n",
       "      <td>0</td>\n",
       "      <td>2</td>\n",
       "    </tr>\n",
       "    <tr>\n",
       "      <th>70</th>\n",
       "      <td>-   3238 Once upon a time the was two kids AKA...</td>\n",
       "      <td>- 3238 Once upon a time the was two kids AKA t...</td>\n",
       "      <td>3238</td>\n",
       "      <td>0.059590</td>\n",
       "      <td>0</td>\n",
       "      <td>3</td>\n",
       "    </tr>\n",
       "    <tr>\n",
       "      <th>72</th>\n",
       "      <td>-  323a   Once there was a little girl named R...</td>\n",
       "      <td>- 323a (C Once there was a little girl named R...</td>\n",
       "      <td>3239</td>\n",
       "      <td>0.080295</td>\n",
       "      <td>0</td>\n",
       "      <td>7</td>\n",
       "    </tr>\n",
       "    <tr>\n",
       "      <th>76</th>\n",
       "      <td>-  3237  Once apon a time there were humans wi...</td>\n",
       "      <td>3237 Once apon a time there were humans with a...</td>\n",
       "      <td>3237</td>\n",
       "      <td>0.066986</td>\n",
       "      <td>0</td>\n",
       "      <td>3</td>\n",
       "    </tr>\n",
       "  </tbody>\n",
       "</table>\n",
       "</div>"
      ],
      "text/plain": [
       "                                                human  \\\n",
       "47  -3235 I was walking home from school It was  a...   \n",
       "53  - 3234    Arania stepped outside and made sure...   \n",
       "55  -3215      The Valcano eruption    The ground ...   \n",
       "59  -3241  Once there was a girl named Sylvie.  He...   \n",
       "70  -   3238 Once upon a time the was two kids AKA...   \n",
       "72  -  323a   Once there was a little girl named R...   \n",
       "76  -  3237  Once apon a time there were humans wi...   \n",
       "\n",
       "                                              machine  storyno     error  \\\n",
       "47  -3235 I was walking home from school It was Ia...     3235  0.163232   \n",
       "53  - 3234 Arania stepped outside and made sure no...     3234  0.130264   \n",
       "55  - 3215 The Valcano eruption og 1 The ground wa...     3215  0.491499   \n",
       "59  - 3241 Once there was a girl named Sylvie. her...     3241  0.046269   \n",
       "70  - 3238 Once upon a time the was two kids AKA t...     3238  0.059590   \n",
       "72  - 323a (C Once there was a little girl named R...     3239  0.080295   \n",
       "76  3237 Once apon a time there were humans with a...     3237  0.066986   \n",
       "\n",
       "    human_q  machine_q  \n",
       "47        0          2  \n",
       "53        0          1  \n",
       "55        4          9  \n",
       "59        0          2  \n",
       "70        0          3  \n",
       "72        0          7  \n",
       "76        0          3  "
      ]
     },
     "execution_count": 14,
     "metadata": {},
     "output_type": "execute_result"
    }
   ],
   "source": [
    "df[df['human_q'] < df['machine_q']]"
   ]
  },
  {
   "cell_type": "markdown",
   "metadata": {},
   "source": [
    "## Text stats"
   ]
  },
  {
   "cell_type": "code",
   "execution_count": null,
   "metadata": {},
   "outputs": [],
   "source": [
    "# story length in characters\n",
    "\n",
    "df['len_h'] = df['human'].apply(lambda s: len(s))\n",
    "df['len_m'] = df['machine'].apply(lambda s: len(s))"
   ]
  },
  {
   "cell_type": "code",
   "execution_count": 8,
   "metadata": {},
   "outputs": [],
   "source": [
    "# !pip install textstat  # for colab\n",
    "\n",
    "import textstat"
   ]
  },
  {
   "cell_type": "code",
   "execution_count": null,
   "metadata": {},
   "outputs": [],
   "source": [
    "# Flesch Reading Ease: uses words per sentence and syllables per word\n",
    "\n",
    "df['fre_h'] = df['human'].apply(textstat.flesch_reading_ease)\n",
    "df['fre_m'] = df['machine'].apply(textstat.flesch_reading_ease)\n",
    "\n",
    "# SMOG grade: polysyllables (issues when applied to short texts)\n",
    "\n",
    "df['smog_h'] = df['human'].apply(textstat.smog_index)\n",
    "df['smog_m'] = df['machine'].apply(textstat.smog_index)\n",
    "\n",
    "# Flesch_Kincaid Grade Level: words per sentence and syllables per word\n",
    "\n",
    "df['fkg_h'] = df['human'].apply(textstat.flesch_kincaid_grade)\n",
    "df['fkg_m'] = df['machine'].apply(textstat.flesch_kincaid_grade)\n",
    "\n",
    "# Coleman-Liau Index: characters and sentences per word\n",
    "\n",
    "df['cli_h'] = df['human'].apply(textstat.coleman_liau_index)\n",
    "df['cli_m'] = df['machine'].apply(textstat.coleman_liau_index)\n",
    "\n",
    "# Automated Readability Index: characters per word and words per sentence\n",
    "\n",
    "df['ari_h'] = df['human'].apply(textstat.automated_readability_index)\n",
    "df['ari_m'] = df['machine'].apply(textstat.automated_readability_index)\n",
    "\n",
    "# Dale-Chall Readability Score: \"difficult\" word density and words per sentence\n",
    "\n",
    "df['dcr_h'] = df['human'].apply(textstat.dale_chall_readability_score)\n",
    "df['dcr_m'] = df['machine'].apply(textstat.dale_chall_readability_score)\n",
    "\n",
    "# Difficult Words: raw count of DC \"difficult\" words\n",
    "\n",
    "df['dw_h'] = df['human'].apply(textstat.difficult_words)\n",
    "df['dw_m'] = df['machine'].apply(textstat.difficult_words)\n",
    "\n",
    "# Linsear Write Formula: counts of \"easy\" and \"difficult\" words and sentences per word\n",
    "\n",
    "df['lwf_h'] = df['human'].apply(textstat.linsear_write_formula)\n",
    "df['lwf_m'] = df['machine'].apply(textstat.linsear_write_formula)\n",
    "\n",
    "# Gunning fog: sentence length and percentage of complex words\n",
    "\n",
    "df['gf_h'] = df['human'].apply(textstat.gunning_fog)\n",
    "df['gf_m'] = df['machine'].apply(textstat.gunning_fog)\n",
    "\n",
    "# Consolidated Score: Textstat's amalgamation of the preceding scores\n",
    "# mirrors the function in the .py file, which is currently set not to output a number\n",
    "\n",
    "df['cs_h'] = df['human'].apply(textstat.text_standard)\n",
    "df['cs_m'] = df['machine'].apply(textstat.text_standard)"
   ]
  },
  {
   "cell_type": "code",
   "execution_count": null,
   "metadata": {},
   "outputs": [],
   "source": [
    "# csv distributed privately\n",
    "\n",
    "df.to_csv(\"metrics.csv\")"
   ]
  }
 ],
 "metadata": {
  "colab": {
   "collapsed_sections": [],
   "name": "checkingmetrics.ipynb",
   "provenance": []
  },
  "kernelspec": {
   "display_name": "Python 3",
   "language": "python",
   "name": "python3"
  },
  "language_info": {
   "codemirror_mode": {
    "name": "ipython",
    "version": 3
   },
   "file_extension": ".py",
   "mimetype": "text/x-python",
   "name": "python",
   "nbconvert_exporter": "python",
   "pygments_lexer": "ipython3",
   "version": "3.7.3"
  }
 },
 "nbformat": 4,
 "nbformat_minor": 4
}
