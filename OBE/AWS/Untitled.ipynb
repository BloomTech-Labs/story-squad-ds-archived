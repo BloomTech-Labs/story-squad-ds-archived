{
 "cells": [
  {
   "cell_type": "code",
   "execution_count": 1,
   "metadata": {},
   "outputs": [
    {
     "name": "stdout",
     "output_type": "stream",
     "text": [
      "Requirement already satisfied: ndjson in c:\\programdata\\anaconda3\\lib\\site-packages (0.3.1)\n"
     ]
    },
    {
     "name": "stderr",
     "output_type": "stream",
     "text": [
      "WARNING: You are using pip version 20.0.2; however, version 20.1 is available.\n",
      "You should consider upgrading via the 'C:\\ProgramData\\Anaconda3\\python.exe -m pip install --upgrade pip' command.\n"
     ]
    }
   ],
   "source": [
    "import sys\n",
    "!{sys.executable} -m pip install ndjson"
   ]
  },
  {
   "cell_type": "code",
   "execution_count": 2,
   "metadata": {},
   "outputs": [],
   "source": [
    "import json, ndjson, io\n",
    "import numpy as np\n",
    "from matplotlib import pyplot as plt\n",
    "from PIL import Image, ImageDraw"
   ]
  },
  {
   "cell_type": "code",
   "execution_count": 49,
   "metadata": {},
   "outputs": [
    {
     "name": "stdout",
     "output_type": "stream",
     "text": [
      "<class '_io.TextIOWrapper'>\n",
      "25209\n",
      "<class 'dict'>\n",
      "[[[12, 1, 0, 7, 15, 22, 42, 67, 71, 73, 65, 59, 62, 65, 77, 92, 104, 107, 117, 120, 119, 111, 110, 120, 131, 143, 184, 195, 207, 208, 201], [0, 44, 74, 89, 96, 99, 99, 87, 79, 50, 65, 108, 208, 221, 242, 252, 255, 255, 242, 227, 175, 132, 58, 92, 111, 117, 119, 107, 77, 24, 4]]]\n",
      "<class 'list'>\n"
     ]
    }
   ],
   "source": [
    "file = \"penis-simplified.ndjson\"\n",
    "dataset = ['penis-simplified']\n",
    "\n",
    "labels, dataset_name = dataset, 'penises'\n",
    "\n",
    "drawings = []\n",
    "\n",
    "with open('penis_simplified.ndjson') as f:\n",
    "    print(type(f))\n",
    "    data = ndjson.load(f)    \n",
    "    print(len(data))\n",
    "    for num in range(10):\n",
    "        drawings.append(data[num])\n",
    "\n",
    "drawing = data[14000]\n",
    "print(type(drawing))\n",
    "print(drawing['drawing'])\n",
    "print(type(drawing['drawing']))"
   ]
  },
  {
   "cell_type": "code",
   "execution_count": 41,
   "metadata": {},
   "outputs": [],
   "source": [
    "def convert(line):\n",
    "  \"\"\"Converts single JSON line and converts 'drawing' to list of np.array.\"\"\"\n",
    "  print(type(line))\n",
    "  line = line.replace(\"\\'\", \"\\\"\")\n",
    "  print(line)\n",
    "  d = json.loads(line)\n",
    "  print(d)\n",
    "  d['drawing'] = [np.array(stroke) for stroke in d['drawing']]\n",
    "  return d"
   ]
  },
  {
   "cell_type": "code",
   "execution_count": 42,
   "metadata": {},
   "outputs": [],
   "source": [
    "def showimg(img):\n",
    "  if isinstance(img, np.ndarray):\n",
    "    img = list(Image.fromarray(img, 'L'))\n",
    "  print(img)\n",
    "  b = io.BytesIO()\n",
    "  img.convert('RGB').save(b, format='png')\n",
    "  enc = base64.b64encode(b.getvalue()).decode('utf-8')\n",
    "  display.display(display.HTML(\n",
    "      '<img src=\"data:image/png;base64,%s\">' % enc))"
   ]
  },
  {
   "cell_type": "code",
   "execution_count": 43,
   "metadata": {},
   "outputs": [
    {
     "name": "stdout",
     "output_type": "stream",
     "text": [
      "<class 'dict'>\n"
     ]
    },
    {
     "ename": "AttributeError",
     "evalue": "'dict' object has no attribute 'replace'",
     "output_type": "error",
     "traceback": [
      "\u001b[1;31m---------------------------------------------------------------------------\u001b[0m",
      "\u001b[1;31mAttributeError\u001b[0m                            Traceback (most recent call last)",
      "\u001b[1;32m<ipython-input-43-3b94890f8cd7>\u001b[0m in \u001b[0;36m<module>\u001b[1;34m\u001b[0m\n\u001b[1;32m----> 1\u001b[1;33m \u001b[0mshowimg\u001b[0m\u001b[1;33m(\u001b[0m\u001b[0mconvert\u001b[0m\u001b[1;33m(\u001b[0m\u001b[0mdrawing\u001b[0m\u001b[1;33m)\u001b[0m\u001b[1;33m)\u001b[0m\u001b[1;33m\u001b[0m\u001b[1;33m\u001b[0m\u001b[0m\n\u001b[0m",
      "\u001b[1;32m<ipython-input-41-b33402d8b07d>\u001b[0m in \u001b[0;36mconvert\u001b[1;34m(line)\u001b[0m\n\u001b[0;32m      2\u001b[0m   \u001b[1;34m\"\"\"Converts single JSON line and converts 'drawing' to list of np.array.\"\"\"\u001b[0m\u001b[1;33m\u001b[0m\u001b[1;33m\u001b[0m\u001b[0m\n\u001b[0;32m      3\u001b[0m   \u001b[0mprint\u001b[0m\u001b[1;33m(\u001b[0m\u001b[0mtype\u001b[0m\u001b[1;33m(\u001b[0m\u001b[0mline\u001b[0m\u001b[1;33m)\u001b[0m\u001b[1;33m)\u001b[0m\u001b[1;33m\u001b[0m\u001b[1;33m\u001b[0m\u001b[0m\n\u001b[1;32m----> 4\u001b[1;33m   \u001b[0mline\u001b[0m \u001b[1;33m=\u001b[0m \u001b[0mline\u001b[0m\u001b[1;33m.\u001b[0m\u001b[0mreplace\u001b[0m\u001b[1;33m(\u001b[0m\u001b[1;34m\"\\'\"\u001b[0m\u001b[1;33m,\u001b[0m \u001b[1;34m\"\\\"\"\u001b[0m\u001b[1;33m)\u001b[0m\u001b[1;33m\u001b[0m\u001b[1;33m\u001b[0m\u001b[0m\n\u001b[0m\u001b[0;32m      5\u001b[0m   \u001b[0mprint\u001b[0m\u001b[1;33m(\u001b[0m\u001b[0mline\u001b[0m\u001b[1;33m)\u001b[0m\u001b[1;33m\u001b[0m\u001b[1;33m\u001b[0m\u001b[0m\n\u001b[0;32m      6\u001b[0m   \u001b[0md\u001b[0m \u001b[1;33m=\u001b[0m \u001b[0mjson\u001b[0m\u001b[1;33m.\u001b[0m\u001b[0mloads\u001b[0m\u001b[1;33m(\u001b[0m\u001b[0mline\u001b[0m\u001b[1;33m)\u001b[0m\u001b[1;33m\u001b[0m\u001b[1;33m\u001b[0m\u001b[0m\n",
      "\u001b[1;31mAttributeError\u001b[0m: 'dict' object has no attribute 'replace'"
     ]
    }
   ],
   "source": [
    "showimg(convert(drawing))"
   ]
  },
  {
   "cell_type": "code",
   "execution_count": 81,
   "metadata": {},
   "outputs": [],
   "source": [
    "def dict_to_img(drawing, img_sz=512, lw=3, maximize=True):\n",
    "\n",
    "  print(drawing)\n",
    "  img = Image.new('L', (img_sz, img_sz))\n",
    "  draw = ImageDraw.Draw(img)\n",
    "\n",
    "  lines = np.array([\n",
    "      stroke[0:2, i:i+2]\n",
    "      for stroke in drawing['drawing']\n",
    "      for i in range(stroke.shape[1] - 1)\n",
    "  ], dtype=np.float32)\n",
    "  if maximize:\n",
    "    for i in range(2):\n",
    "      min_, max_ = lines[:,i,:].min() * 0.95, lines[:,i,:].max() * 1.05\n",
    "      lines[:,i,:] = (lines[:,i,:] - min_) / max(max_ - min_, 1)\n",
    "  else:\n",
    "    lines /= 1024\n",
    "  for line in lines:\n",
    "    draw.line(tuple(line.T.reshape((-1,)) * img_sz), fill='white', width=lw)\n",
    "  showimg(img)\n",
    "  #return img"
   ]
  },
  {
   "cell_type": "code",
   "execution_count": 84,
   "metadata": {},
   "outputs": [
    {
     "name": "stdout",
     "output_type": "stream",
     "text": [
      "{'word': 'penis', 'countrycode': None, 'timestamp': '2019-06-17T20:23:49.786Z', 'key_id': 43853, 'drawing': [[[12, 1, 0, 7, 15, 22, 42, 67, 71, 73, 65, 59, 62, 65, 77, 92, 104, 107, 117, 120, 119, 111, 110, 120, 131, 143, 184, 195, 207, 208, 201], [0, 44, 74, 89, 96, 99, 99, 87, 79, 50, 65, 108, 208, 221, 242, 252, 255, 255, 242, 227, 175, 132, 58, 92, 111, 117, 119, 107, 77, 24, 4]]]}\n"
     ]
    },
    {
     "ename": "AttributeError",
     "evalue": "'list' object has no attribute 'shape'",
     "output_type": "error",
     "traceback": [
      "\u001b[1;31m---------------------------------------------------------------------------\u001b[0m",
      "\u001b[1;31mAttributeError\u001b[0m                            Traceback (most recent call last)",
      "\u001b[1;32m<ipython-input-84-7894d20401f3>\u001b[0m in \u001b[0;36m<module>\u001b[1;34m\u001b[0m\n\u001b[1;32m----> 1\u001b[1;33m \u001b[0mdict_to_img\u001b[0m\u001b[1;33m(\u001b[0m\u001b[0mdrawing\u001b[0m\u001b[1;33m)\u001b[0m\u001b[1;33m\u001b[0m\u001b[1;33m\u001b[0m\u001b[0m\n\u001b[0m",
      "\u001b[1;32m<ipython-input-81-0a0aae503608>\u001b[0m in \u001b[0;36mdict_to_img\u001b[1;34m(drawing, img_sz, lw, maximize)\u001b[0m\n\u001b[0;32m      7\u001b[0m   lines = np.array([\n\u001b[0;32m      8\u001b[0m       \u001b[0mstroke\u001b[0m\u001b[1;33m[\u001b[0m\u001b[1;36m0\u001b[0m\u001b[1;33m:\u001b[0m\u001b[1;36m2\u001b[0m\u001b[1;33m,\u001b[0m \u001b[0mi\u001b[0m\u001b[1;33m:\u001b[0m\u001b[0mi\u001b[0m\u001b[1;33m+\u001b[0m\u001b[1;36m2\u001b[0m\u001b[1;33m]\u001b[0m\u001b[1;33m\u001b[0m\u001b[1;33m\u001b[0m\u001b[0m\n\u001b[1;32m----> 9\u001b[1;33m       \u001b[1;32mfor\u001b[0m \u001b[0mstroke\u001b[0m \u001b[1;32min\u001b[0m \u001b[0mdrawing\u001b[0m\u001b[1;33m[\u001b[0m\u001b[1;34m'drawing'\u001b[0m\u001b[1;33m]\u001b[0m\u001b[1;33m\u001b[0m\u001b[1;33m\u001b[0m\u001b[0m\n\u001b[0m\u001b[0;32m     10\u001b[0m       \u001b[1;32mfor\u001b[0m \u001b[0mi\u001b[0m \u001b[1;32min\u001b[0m \u001b[0mrange\u001b[0m\u001b[1;33m(\u001b[0m\u001b[0mstroke\u001b[0m\u001b[1;33m.\u001b[0m\u001b[0mshape\u001b[0m\u001b[1;33m[\u001b[0m\u001b[1;36m1\u001b[0m\u001b[1;33m]\u001b[0m \u001b[1;33m-\u001b[0m \u001b[1;36m1\u001b[0m\u001b[1;33m)\u001b[0m\u001b[1;33m\u001b[0m\u001b[1;33m\u001b[0m\u001b[0m\n\u001b[0;32m     11\u001b[0m   ], dtype=np.float32)\n",
      "\u001b[1;32m<ipython-input-81-0a0aae503608>\u001b[0m in \u001b[0;36m<listcomp>\u001b[1;34m(.0)\u001b[0m\n\u001b[0;32m      8\u001b[0m       \u001b[0mstroke\u001b[0m\u001b[1;33m[\u001b[0m\u001b[1;36m0\u001b[0m\u001b[1;33m:\u001b[0m\u001b[1;36m2\u001b[0m\u001b[1;33m,\u001b[0m \u001b[0mi\u001b[0m\u001b[1;33m:\u001b[0m\u001b[0mi\u001b[0m\u001b[1;33m+\u001b[0m\u001b[1;36m2\u001b[0m\u001b[1;33m]\u001b[0m\u001b[1;33m\u001b[0m\u001b[1;33m\u001b[0m\u001b[0m\n\u001b[0;32m      9\u001b[0m       \u001b[1;32mfor\u001b[0m \u001b[0mstroke\u001b[0m \u001b[1;32min\u001b[0m \u001b[0mdrawing\u001b[0m\u001b[1;33m[\u001b[0m\u001b[1;34m'drawing'\u001b[0m\u001b[1;33m]\u001b[0m\u001b[1;33m\u001b[0m\u001b[1;33m\u001b[0m\u001b[0m\n\u001b[1;32m---> 10\u001b[1;33m       \u001b[1;32mfor\u001b[0m \u001b[0mi\u001b[0m \u001b[1;32min\u001b[0m \u001b[0mrange\u001b[0m\u001b[1;33m(\u001b[0m\u001b[0mstroke\u001b[0m\u001b[1;33m.\u001b[0m\u001b[0mshape\u001b[0m\u001b[1;33m[\u001b[0m\u001b[1;36m1\u001b[0m\u001b[1;33m]\u001b[0m \u001b[1;33m-\u001b[0m \u001b[1;36m1\u001b[0m\u001b[1;33m)\u001b[0m\u001b[1;33m\u001b[0m\u001b[1;33m\u001b[0m\u001b[0m\n\u001b[0m\u001b[0;32m     11\u001b[0m   ], dtype=np.float32)\n\u001b[0;32m     12\u001b[0m   \u001b[1;32mif\u001b[0m \u001b[0mmaximize\u001b[0m\u001b[1;33m:\u001b[0m\u001b[1;33m\u001b[0m\u001b[1;33m\u001b[0m\u001b[0m\n",
      "\u001b[1;31mAttributeError\u001b[0m: 'list' object has no attribute 'shape'"
     ]
    }
   ],
   "source": [
    "dict_to_img(drawing)"
   ]
  },
  {
   "cell_type": "code",
   "execution_count": null,
   "metadata": {},
   "outputs": [],
   "source": []
  },
  {
   "cell_type": "code",
   "execution_count": null,
   "metadata": {},
   "outputs": [],
   "source": []
  },
  {
   "cell_type": "code",
   "execution_count": 79,
   "metadata": {
    "scrolled": true
   },
   "outputs": [
    {
     "name": "stdout",
     "output_type": "stream",
     "text": [
      "{'word': 'penis', 'countrycode': 'US', 'timestamp': '2018-10-09T00:21:52.337Z', 'key_id': 2081, 'drawing': [[[79, 80, 90, 97, 112, 125, 137, 171, 183, 188, 188, 184, 183, 177, 177, 177, 189, 213, 235, 244, 253, 255, 253, 238, 199, 166, 108, 89, 61, 31, 9, 0, 0, 6, 17, 59, 74, 81], [165, 134, 80, 57, 27, 11, 2, 1, 5, 26, 89, 98, 134, 151, 165, 158, 148, 144, 149, 156, 172, 185, 199, 217, 233, 235, 230, 224, 222, 215, 195, 169, 155, 150, 148, 148, 152, 167]], [[162], [3]], [[162], [3]], [[158], [7]], [[158], [7]]]}\n"
     ]
    },
    {
     "ename": "AttributeError",
     "evalue": "'list' object has no attribute 'shape'",
     "output_type": "error",
     "traceback": [
      "\u001b[1;31m---------------------------------------------------------------------------\u001b[0m",
      "\u001b[1;31mAttributeError\u001b[0m                            Traceback (most recent call last)",
      "\u001b[1;32m<ipython-input-79-b4e0b15dbf4f>\u001b[0m in \u001b[0;36m<module>\u001b[1;34m\u001b[0m\n\u001b[0;32m      1\u001b[0m \u001b[1;32mfor\u001b[0m \u001b[0mi\u001b[0m \u001b[1;32min\u001b[0m \u001b[0mrange\u001b[0m\u001b[1;33m(\u001b[0m\u001b[0mlen\u001b[0m\u001b[1;33m(\u001b[0m\u001b[0mdrawings\u001b[0m\u001b[1;33m)\u001b[0m \u001b[1;33m-\u001b[0m\u001b[1;36m1\u001b[0m\u001b[1;33m)\u001b[0m\u001b[1;33m:\u001b[0m\u001b[1;33m\u001b[0m\u001b[1;33m\u001b[0m\u001b[0m\n\u001b[1;32m----> 2\u001b[1;33m     \u001b[0mdict_to_img\u001b[0m\u001b[1;33m(\u001b[0m\u001b[0mdrawings\u001b[0m\u001b[1;33m[\u001b[0m\u001b[0mi\u001b[0m\u001b[1;33m]\u001b[0m\u001b[1;33m,\u001b[0m \u001b[0mimg_sz\u001b[0m\u001b[1;33m=\u001b[0m\u001b[1;36m512\u001b[0m\u001b[1;33m,\u001b[0m \u001b[0mlw\u001b[0m\u001b[1;33m=\u001b[0m\u001b[1;36m3\u001b[0m\u001b[1;33m,\u001b[0m \u001b[0mmaximize\u001b[0m\u001b[1;33m=\u001b[0m\u001b[1;32mTrue\u001b[0m\u001b[1;33m)\u001b[0m\u001b[1;33m\u001b[0m\u001b[1;33m\u001b[0m\u001b[0m\n\u001b[0m",
      "\u001b[1;32m<ipython-input-68-0a0aae503608>\u001b[0m in \u001b[0;36mdict_to_img\u001b[1;34m(drawing, img_sz, lw, maximize)\u001b[0m\n\u001b[0;32m      7\u001b[0m   lines = np.array([\n\u001b[0;32m      8\u001b[0m       \u001b[0mstroke\u001b[0m\u001b[1;33m[\u001b[0m\u001b[1;36m0\u001b[0m\u001b[1;33m:\u001b[0m\u001b[1;36m2\u001b[0m\u001b[1;33m,\u001b[0m \u001b[0mi\u001b[0m\u001b[1;33m:\u001b[0m\u001b[0mi\u001b[0m\u001b[1;33m+\u001b[0m\u001b[1;36m2\u001b[0m\u001b[1;33m]\u001b[0m\u001b[1;33m\u001b[0m\u001b[1;33m\u001b[0m\u001b[0m\n\u001b[1;32m----> 9\u001b[1;33m       \u001b[1;32mfor\u001b[0m \u001b[0mstroke\u001b[0m \u001b[1;32min\u001b[0m \u001b[0mdrawing\u001b[0m\u001b[1;33m[\u001b[0m\u001b[1;34m'drawing'\u001b[0m\u001b[1;33m]\u001b[0m\u001b[1;33m\u001b[0m\u001b[1;33m\u001b[0m\u001b[0m\n\u001b[0m\u001b[0;32m     10\u001b[0m       \u001b[1;32mfor\u001b[0m \u001b[0mi\u001b[0m \u001b[1;32min\u001b[0m \u001b[0mrange\u001b[0m\u001b[1;33m(\u001b[0m\u001b[0mstroke\u001b[0m\u001b[1;33m.\u001b[0m\u001b[0mshape\u001b[0m\u001b[1;33m[\u001b[0m\u001b[1;36m1\u001b[0m\u001b[1;33m]\u001b[0m \u001b[1;33m-\u001b[0m \u001b[1;36m1\u001b[0m\u001b[1;33m)\u001b[0m\u001b[1;33m\u001b[0m\u001b[1;33m\u001b[0m\u001b[0m\n\u001b[0;32m     11\u001b[0m   ], dtype=np.float32)\n",
      "\u001b[1;32m<ipython-input-68-0a0aae503608>\u001b[0m in \u001b[0;36m<listcomp>\u001b[1;34m(.0)\u001b[0m\n\u001b[0;32m      8\u001b[0m       \u001b[0mstroke\u001b[0m\u001b[1;33m[\u001b[0m\u001b[1;36m0\u001b[0m\u001b[1;33m:\u001b[0m\u001b[1;36m2\u001b[0m\u001b[1;33m,\u001b[0m \u001b[0mi\u001b[0m\u001b[1;33m:\u001b[0m\u001b[0mi\u001b[0m\u001b[1;33m+\u001b[0m\u001b[1;36m2\u001b[0m\u001b[1;33m]\u001b[0m\u001b[1;33m\u001b[0m\u001b[1;33m\u001b[0m\u001b[0m\n\u001b[0;32m      9\u001b[0m       \u001b[1;32mfor\u001b[0m \u001b[0mstroke\u001b[0m \u001b[1;32min\u001b[0m \u001b[0mdrawing\u001b[0m\u001b[1;33m[\u001b[0m\u001b[1;34m'drawing'\u001b[0m\u001b[1;33m]\u001b[0m\u001b[1;33m\u001b[0m\u001b[1;33m\u001b[0m\u001b[0m\n\u001b[1;32m---> 10\u001b[1;33m       \u001b[1;32mfor\u001b[0m \u001b[0mi\u001b[0m \u001b[1;32min\u001b[0m \u001b[0mrange\u001b[0m\u001b[1;33m(\u001b[0m\u001b[0mstroke\u001b[0m\u001b[1;33m.\u001b[0m\u001b[0mshape\u001b[0m\u001b[1;33m[\u001b[0m\u001b[1;36m1\u001b[0m\u001b[1;33m]\u001b[0m \u001b[1;33m-\u001b[0m \u001b[1;36m1\u001b[0m\u001b[1;33m)\u001b[0m\u001b[1;33m\u001b[0m\u001b[1;33m\u001b[0m\u001b[0m\n\u001b[0m\u001b[0;32m     11\u001b[0m   ], dtype=np.float32)\n\u001b[0;32m     12\u001b[0m   \u001b[1;32mif\u001b[0m \u001b[0mmaximize\u001b[0m\u001b[1;33m:\u001b[0m\u001b[1;33m\u001b[0m\u001b[1;33m\u001b[0m\u001b[0m\n",
      "\u001b[1;31mAttributeError\u001b[0m: 'list' object has no attribute 'shape'"
     ]
    }
   ],
   "source": [
    "for i in range(len(drawings) -1):\n",
    "    dict_to_img(drawings[i], img_sz=512, lw=3, maximize=True)"
   ]
  },
  {
   "cell_type": "code",
   "execution_count": null,
   "metadata": {},
   "outputs": [],
   "source": []
  },
  {
   "cell_type": "code",
   "execution_count": null,
   "metadata": {},
   "outputs": [],
   "source": []
  },
  {
   "cell_type": "code",
   "execution_count": null,
   "metadata": {},
   "outputs": [],
   "source": []
  },
  {
   "cell_type": "code",
   "execution_count": null,
   "metadata": {},
   "outputs": [],
   "source": []
  },
  {
   "cell_type": "code",
   "execution_count": null,
   "metadata": {},
   "outputs": [],
   "source": []
  },
  {
   "cell_type": "code",
   "execution_count": 39,
   "metadata": {},
   "outputs": [
    {
     "data": {
      "image/png": "[encoded data removed]",
      "text/plain": [
       "<Figure size 432x288 with 1 Axes>"
      ]
     },
     "metadata": {
      "needs_background": "light"
     },
     "output_type": "display_data"
    }
   ],
   "source": [
    "for stroke in drawing:\n",
    "  # Each array has X coordinates at [0, :] and Y coordinates at [1, :].\n",
    "  plt.plot(np.array(stroke[0]), -np.array(stroke[1]))"
   ]
  },
  {
   "cell_type": "code",
   "execution_count": 10,
   "metadata": {},
   "outputs": [],
   "source": [
    "def loaditer(name, unrecognized=False):\n",
    "  \"\"\"Returns iterable of drawings in specified file.\n",
    "\n",
    "  Args:\n",
    "    name: Name of the downloaded object (e.g. \"elephant\").\n",
    "    unrecognized: Whether to include drawings that were not recognized\n",
    "        by Google AI (i.e. the hard ones).\n",
    "  \"\"\"\n",
    "  for line in tf.io.gfile.GFile('%s/%s.ndjson' % (data_path, name)):\n",
    "    d = convert(line)  \n",
    "    #if d['recognized'] or unrecognized:\n",
    "    yield d"
   ]
  },
  {
   "cell_type": "code",
   "execution_count": 11,
   "metadata": {},
   "outputs": [],
   "source": [
    "def loadn(name, n, unrecognized=False):\n",
    "  \"\"\"Returns list of drawings.\n",
    "  \n",
    "  Args:\n",
    "    name: Name of the downloaded object (e.g. \"elephant\").\n",
    "    n: Number of drawings to load.\n",
    "    unrecognized: Whether to include drawings that were not recognized\n",
    "        by Google AI (i.e. the hard ones).\n",
    "  \"\"\"\n",
    "  it = loaditer(name, unrecognized=unrecognized)\n",
    "  return list(itertools.islice(it, 0, n))"
   ]
  },
  {
   "cell_type": "code",
   "execution_count": 12,
   "metadata": {},
   "outputs": [
    {
     "name": "stdout",
     "output_type": "stream",
     "text": [
      "Loading 500 instances of \"penis-simplified\"..."
     ]
    },
    {
     "ename": "NameError",
     "evalue": "name 'itertools' is not defined",
     "output_type": "error",
     "traceback": [
      "\u001b[1;31m---------------------------------------------------------------------------\u001b[0m",
      "\u001b[1;31mNameError\u001b[0m                                 Traceback (most recent call last)",
      "\u001b[1;32m<ipython-input-12-e0e90509c751>\u001b[0m in \u001b[0;36m<module>\u001b[1;34m\u001b[0m\n\u001b[0;32m      1\u001b[0m \u001b[0mn\u001b[0m \u001b[1;33m=\u001b[0m \u001b[1;36m500\u001b[0m\u001b[1;33m\u001b[0m\u001b[1;33m\u001b[0m\u001b[0m\n\u001b[0;32m      2\u001b[0m \u001b[0mprint\u001b[0m\u001b[1;33m(\u001b[0m\u001b[1;34m'Loading {} instances of \"{}\"...'\u001b[0m\u001b[1;33m.\u001b[0m\u001b[0mformat\u001b[0m\u001b[1;33m(\u001b[0m\u001b[0mn\u001b[0m\u001b[1;33m,\u001b[0m \u001b[0mlabels\u001b[0m\u001b[1;33m[\u001b[0m\u001b[1;36m0\u001b[0m\u001b[1;33m]\u001b[0m\u001b[1;33m)\u001b[0m\u001b[1;33m,\u001b[0m \u001b[0mend\u001b[0m\u001b[1;33m=\u001b[0m\u001b[1;34m''\u001b[0m\u001b[1;33m)\u001b[0m\u001b[1;33m\u001b[0m\u001b[1;33m\u001b[0m\u001b[0m\n\u001b[1;32m----> 3\u001b[1;33m \u001b[0msample\u001b[0m \u001b[1;33m=\u001b[0m \u001b[0mloadn\u001b[0m\u001b[1;33m(\u001b[0m\u001b[0mlabels\u001b[0m\u001b[1;33m[\u001b[0m\u001b[1;36m0\u001b[0m\u001b[1;33m]\u001b[0m\u001b[1;33m,\u001b[0m \u001b[1;36m100\u001b[0m\u001b[1;33m)\u001b[0m\u001b[1;33m\u001b[0m\u001b[1;33m\u001b[0m\u001b[0m\n\u001b[0m\u001b[0;32m      4\u001b[0m \u001b[0mprint\u001b[0m\u001b[1;33m(\u001b[0m\u001b[1;34m'done.'\u001b[0m\u001b[1;33m)\u001b[0m\u001b[1;33m\u001b[0m\u001b[1;33m\u001b[0m\u001b[0m\n",
      "\u001b[1;32m<ipython-input-11-5ea10de16c47>\u001b[0m in \u001b[0;36mloadn\u001b[1;34m(name, n, unrecognized)\u001b[0m\n\u001b[0;32m      9\u001b[0m   \"\"\"\n\u001b[0;32m     10\u001b[0m   \u001b[0mit\u001b[0m \u001b[1;33m=\u001b[0m \u001b[0mloaditer\u001b[0m\u001b[1;33m(\u001b[0m\u001b[0mname\u001b[0m\u001b[1;33m,\u001b[0m \u001b[0munrecognized\u001b[0m\u001b[1;33m=\u001b[0m\u001b[0munrecognized\u001b[0m\u001b[1;33m)\u001b[0m\u001b[1;33m\u001b[0m\u001b[1;33m\u001b[0m\u001b[0m\n\u001b[1;32m---> 11\u001b[1;33m   \u001b[1;32mreturn\u001b[0m \u001b[0mlist\u001b[0m\u001b[1;33m(\u001b[0m\u001b[0mitertools\u001b[0m\u001b[1;33m.\u001b[0m\u001b[0mislice\u001b[0m\u001b[1;33m(\u001b[0m\u001b[0mit\u001b[0m\u001b[1;33m,\u001b[0m \u001b[1;36m0\u001b[0m\u001b[1;33m,\u001b[0m \u001b[0mn\u001b[0m\u001b[1;33m)\u001b[0m\u001b[1;33m)\u001b[0m\u001b[1;33m\u001b[0m\u001b[1;33m\u001b[0m\u001b[0m\n\u001b[0m",
      "\u001b[1;31mNameError\u001b[0m: name 'itertools' is not defined"
     ]
    }
   ],
   "source": [
    "n = 500\n",
    "print('Loading {} instances of \"{}\"...'.format(n, labels[0]), end='')\n",
    "sample = loadn(labels[0], 100)\n",
    "print('done.')"
   ]
  },
  {
   "cell_type": "code",
   "execution_count": null,
   "metadata": {},
   "outputs": [],
   "source": []
  },
  {
   "cell_type": "code",
   "execution_count": null,
   "metadata": {},
   "outputs": [],
   "source": []
  },
  {
   "cell_type": "code",
   "execution_count": null,
   "metadata": {},
   "outputs": [],
   "source": []
  },
  {
   "cell_type": "code",
   "execution_count": null,
   "metadata": {},
   "outputs": [],
   "source": []
  },
  {
   "cell_type": "code",
   "execution_count": null,
   "metadata": {},
   "outputs": [],
   "source": []
  },
  {
   "cell_type": "code",
   "execution_count": 8,
   "metadata": {},
   "outputs": [
    {
     "ename": "NameError",
     "evalue": "name 'loadn' is not defined",
     "output_type": "error",
     "traceback": [
      "\u001b[1;31m---------------------------------------------------------------------------\u001b[0m",
      "\u001b[1;31mNameError\u001b[0m                                 Traceback (most recent call last)",
      "\u001b[1;32m<ipython-input-8-7d282e71cefa>\u001b[0m in \u001b[0;36m<module>\u001b[1;34m\u001b[0m\n\u001b[0;32m      1\u001b[0m \u001b[0mrows\u001b[0m\u001b[1;33m,\u001b[0m \u001b[0mcols\u001b[0m \u001b[1;33m=\u001b[0m \u001b[0mlen\u001b[0m\u001b[1;33m(\u001b[0m\u001b[0mlabels\u001b[0m\u001b[1;33m)\u001b[0m\u001b[1;33m,\u001b[0m \u001b[1;36m3\u001b[0m\u001b[1;33m\u001b[0m\u001b[1;33m\u001b[0m\u001b[0m\n\u001b[0;32m      2\u001b[0m \u001b[1;31m# n_per_class = rows * cols // len(labels) + 1\u001b[0m\u001b[1;33m\u001b[0m\u001b[1;33m\u001b[0m\u001b[1;33m\u001b[0m\u001b[0m\n\u001b[1;32m----> 3\u001b[1;33m drawings_list = [drawing for name in labels\n\u001b[0m\u001b[0;32m      4\u001b[0m                  for drawing in loadn(name, cols)]\n",
      "\u001b[1;32m<ipython-input-8-7d282e71cefa>\u001b[0m in \u001b[0;36m<listcomp>\u001b[1;34m(.0)\u001b[0m\n\u001b[0;32m      2\u001b[0m \u001b[1;31m# n_per_class = rows * cols // len(labels) + 1\u001b[0m\u001b[1;33m\u001b[0m\u001b[1;33m\u001b[0m\u001b[1;33m\u001b[0m\u001b[0m\n\u001b[0;32m      3\u001b[0m drawings_list = [drawing for name in labels\n\u001b[1;32m----> 4\u001b[1;33m                  for drawing in loadn(name, cols)]\n\u001b[0m",
      "\u001b[1;31mNameError\u001b[0m: name 'loadn' is not defined"
     ]
    }
   ],
   "source": [
    "rows, cols = len(labels), 3\n",
    "# n_per_class = rows * cols // len(labels) + 1\n",
    "drawings_list = [drawing for name in labels\n",
    "                 for drawing in loadn(name, cols)]"
   ]
  },
  {
   "cell_type": "code",
   "execution_count": null,
   "metadata": {},
   "outputs": [],
   "source": [
    "# Create mosaic of rendered images.\n",
    "lw = 3\n",
    "img_sz = 512\n",
    "tableau = np.zeros((img_sz * rows, img_sz * cols), dtype=np.uint8)\n",
    "for y in range(rows):\n",
    "  for x in range(cols):\n",
    "    i = y * cols + x\n",
    "    img = dict_to_img(drawings_list[i], img_sz=img_sz, lw=lw, maximize=True)\n",
    "    tableau[y*img_sz:(y+1)*img_sz,\n",
    "            x*img_sz:(x+1)*img_sz] = np.asarray(img)"
   ]
  },
  {
   "cell_type": "code",
   "execution_count": null,
   "metadata": {},
   "outputs": [],
   "source": [
    "showimg(tableau)\n",
    "print('{} samples of : {}'.format(cols, ' '.join(labels)))"
   ]
  },
  {
   "cell_type": "code",
   "execution_count": null,
   "metadata": {},
   "outputs": [],
   "source": []
  },
  {
   "cell_type": "code",
   "execution_count": null,
   "metadata": {},
   "outputs": [],
   "source": []
  }
 ],
 "metadata": {
  "kernelspec": {
   "display_name": "Python 3",
   "language": "python",
   "name": "python3"
  },
  "language_info": {
   "codemirror_mode": {
    "name": "ipython",
    "version": 3
   },
   "file_extension": ".py",
   "mimetype": "text/x-python",
   "name": "python",
   "nbconvert_exporter": "python",
   "pygments_lexer": "ipython3",
   "version": "3.7.4"
  }
 },
 "nbformat": 4,
 "nbformat_minor": 2
}
